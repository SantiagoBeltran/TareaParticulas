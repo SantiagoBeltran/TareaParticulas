{
 "cells": [
  {
   "cell_type": "code",
   "execution_count": 1,
   "metadata": {},
   "outputs": [
    {
     "name": "stdout",
     "output_type": "stream",
     "text": [
      "Populating the interactive namespace from numpy and matplotlib\n"
     ]
    }
   ],
   "source": [
    "%pylab inline"
   ]
  },
  {
   "cell_type": "code",
   "execution_count": 2,
   "metadata": {},
   "outputs": [],
   "source": [
    "import scipy.special as spe\n",
    "from scipy.optimize import fsolve"
   ]
  },
  {
   "cell_type": "code",
   "execution_count": 3,
   "metadata": {},
   "outputs": [],
   "source": [
    "def continuidad(x, l, rho):\n",
    "    y=rho*np.sqrt(x+1)\n",
    "    z=rho*np.sqrt(-x)\n",
    "    g=np.sqrt(x+1)*spe.spherical_jn(l,y,derivative=True)/spe.spherical_jn(l,y)\n",
    "    h=np.sqrt(-x)*spe.spherical_kn(l,z,derivative=True)/spe.spherical_kn(l,z)\n",
    "    f=g-h\n",
    "    return f"
   ]
  },
  {
   "cell_type": "code",
   "execution_count": 4,
   "metadata": {},
   "outputs": [
    {
     "name": "stderr",
     "output_type": "stream",
     "text": [
      "/srv/conda/envs/notebook/lib/python3.7/site-packages/ipykernel_launcher.py:4: RuntimeWarning: invalid value encountered in true_divide\n",
      "  after removing the cwd from sys.path.\n"
     ]
    },
    {
     "data": {
      "text/plain": [
       "[<matplotlib.lines.Line2D at 0x7fb402c78310>]"
      ]
     },
     "execution_count": 4,
     "metadata": {},
     "output_type": "execute_result"
    },
    {
     "data": {
      "image/png": "[encoded data removed]",
      "text/plain": [
       "<Figure size 432x288 with 1 Axes>"
      ]
     },
     "metadata": {
      "needs_background": "light"
     },
     "output_type": "display_data"
    }
   ],
   "source": [
    "plt.figure()\n",
    "x=np.arange(-1,0,0.01)\n",
    "plt.plot(x, continuidad(x, 6, 10))"
   ]
  },
  {
   "cell_type": "code",
   "execution_count": 5,
   "metadata": {},
   "outputs": [],
   "source": [
    "def bisection(a,b,f,l, rho,toi=1E-6):\n",
    "    xl=a\n",
    "    xr=b\n",
    "    while(np.abs(xl-xr)>=toi):\n",
    "        c=(xl+xr)/2.0\n",
    "        prod=f(xl, l,rho)*f(c, l, rho)\n",
    "        if prod>toi:\n",
    "            xl=c\n",
    "        else:\n",
    "            if prod<toi:\n",
    "                xr=c\n",
    "    return c            "
   ]
  },
  {
   "cell_type": "code",
   "execution_count": 6,
   "metadata": {},
   "outputs": [
    {
     "data": {
      "text/plain": [
       "-0.10804518985748292"
      ]
     },
     "execution_count": 6,
     "metadata": {},
     "output_type": "execute_result"
    }
   ],
   "source": [
    "bisection(-0.999,0, continuidad, 6, 10)"
   ]
  },
  {
   "cell_type": "code",
   "execution_count": 7,
   "metadata": {},
   "outputs": [],
   "source": [
    "rho=np.arange(10,100,10)\n",
    "l=np.arange(0,11,1)\n",
    "energias=np.zeros((len(rho), len(l)))"
   ]
  },
  {
   "cell_type": "code",
   "execution_count": 8,
   "metadata": {},
   "outputs": [
    {
     "data": {
      "text/plain": [
       "array([[-2.90523485e-01, -5.15824882e-01, -3.34834565e-01,\n",
       "        -1.38303327e-01, -9.53664780e-07, -2.89913139e-01,\n",
       "        -1.08030193e-01, -9.53664780e-07, -9.53664780e-07,\n",
       "        -9.53664780e-07, -9.53664780e-07],\n",
       "       [-2.11788921e-01, -8.75531024e-02, -9.53664780e-07,\n",
       "        -1.06565363e-01, -2.53841723e-01, -1.43369195e-01,\n",
       "        -7.50067840e-01, -2.01409233e-01, -9.45720752e-02,\n",
       "        -2.86312101e-01, -1.89450277e-01],\n",
       "       [-6.32065174e-01, -2.69466566e-01, -7.50281460e-01,\n",
       "        -2.79354163e-01, -7.65242553e-01, -2.97511940e-01,\n",
       "        -3.85728793e-02, -1.45810576e-01, -2.53895128e-01,\n",
       "        -5.24613856e-01, -2.95284179e-01],\n",
       "       [-1.65234821e-01, -9.78679407e-02, -1.68576462e-01,\n",
       "        -1.03269498e-01, -1.76419401e-01, -1.13126577e-01,\n",
       "        -4.91928903e-02, -5.06570519e-01, -6.54738554e-02,\n",
       "        -2.84297961e-01, -8.69580156e-02],\n",
       "       [-2.62172938e-01, -5.01115556e-01, -2.64400699e-01,\n",
       "        -5.04907327e-01, -2.69619153e-01, -5.11796602e-01,\n",
       "        -3.78588705e-01, -5.49215547e-03, -6.83577377e-02,\n",
       "        -1.32321942e-01, -8.22049503e-02],\n",
       "       [-1.48305364e-01, -1.02048807e-01, -1.49838857e-01,\n",
       "        -9.88664277e-03, -1.53424636e-01, -1.38195563e-02,\n",
       "        -1.59100849e-01, -1.97742392e-02, -7.54958233e-01,\n",
       "        -2.79528684e-02, -5.11876709e-01],\n",
       "       [-5.00356439e-01, -3.33522322e-01, -5.01535169e-01,\n",
       "        -2.62123348e-01, -5.64583855e-01, -2.65613761e-01,\n",
       "        -6.25439111e-01, -2.70679628e-01, -6.31462458e-01,\n",
       "        -3.69859811e-02, -8.25139377e-02],\n",
       "       [-2.08798228e-01, -3.20574416e-02, -2.09683229e-01,\n",
       "        -3.34307189e-02, -2.11758403e-01, -3.59178766e-02,\n",
       "        -1.45688507e-01, -4.38349155e-01, -1.50124956e-01,\n",
       "        -5.00325922e-01, -8.38834004e-02],\n",
       "       [-3.16184697e-01, -5.00594855e-01, -3.16890409e-01,\n",
       "        -8.43929434e-01, -3.18561229e-01, -7.53308392e-01,\n",
       "        -3.76681376e-01, -5.07087405e-01, -3.80274785e-01,\n",
       "        -5.11207237e-01, -8.53711174e-02]])"
      ]
     },
     "execution_count": 8,
     "metadata": {},
     "output_type": "execute_result"
    }
   ],
   "source": [
    "for i in range(len(rho)):\n",
    "    for j in range(len(l)):\n",
    "        energias[i][j]=bisection(-0.99999,0, continuidad, l[j], rho[i])\n",
    "energias"
   ]
  },
  {
   "cell_type": "code",
   "execution_count": 9,
   "metadata": {},
   "outputs": [
    {
     "data": {
      "text/plain": [
       "array([-2.11788921e-01, -8.75531024e-02, -9.53664780e-07, -1.06565363e-01,\n",
       "       -2.53841723e-01, -1.43369195e-01, -7.50067840e-01, -2.01409233e-01,\n",
       "       -9.45720752e-02, -2.86312101e-01, -1.89450277e-01])"
      ]
     },
     "execution_count": 9,
     "metadata": {},
     "output_type": "execute_result"
    }
   ],
   "source": [
    "energias[1]"
   ]
  },
  {
   "cell_type": "code",
   "execution_count": 10,
   "metadata": {},
   "outputs": [
    {
     "data": {
      "text/plain": [
       "[<matplotlib.lines.Line2D at 0x7fb402759990>]"
      ]
     },
     "execution_count": 10,
     "metadata": {},
     "output_type": "execute_result"
    },
    {
     "data": {
      "image/png": "[encoded data removed]",
      "text/plain": [
       "<Figure size 432x288 with 1 Axes>"
      ]
     },
     "metadata": {
      "needs_background": "light"
     },
     "output_type": "display_data"
    }
   ],
   "source": [
    "plt.plot(l, energias[1])"
   ]
  },
  {
   "cell_type": "code",
   "execution_count": 11,
   "metadata": {},
   "outputs": [
    {
     "data": {
      "text/plain": [
       "array([-0.51582488, -0.0875531 , -0.26946657, -0.09786794, -0.50111556,\n",
       "       -0.10204881, -0.33352232, -0.03205744, -0.50059486])"
      ]
     },
     "execution_count": 11,
     "metadata": {},
     "output_type": "execute_result"
    }
   ],
   "source": [
    "energias[:,1]"
   ]
  },
  {
   "cell_type": "code",
   "execution_count": 12,
   "metadata": {},
   "outputs": [
    {
     "data": {
      "text/plain": [
       "[<matplotlib.lines.Line2D at 0x7fb4026cbdd0>]"
      ]
     },
     "execution_count": 12,
     "metadata": {},
     "output_type": "execute_result"
    },
    {
     "data": {
      "image/png": "[encoded data removed]",
      "text/plain": [
       "<Figure size 432x288 with 1 Axes>"
      ]
     },
     "metadata": {
      "needs_background": "light"
     },
     "output_type": "display_data"
    }
   ],
   "source": [
    "plt.plot(rho, energias[:,0])"
   ]
  },
  {
   "cell_type": "code",
   "execution_count": 13,
   "metadata": {},
   "outputs": [],
   "source": [
    "def aproximada(x, l, rho):\n",
    "    y=np.tan(rho*np.sqrt(1+x)-np.pi*l/2.0)+np.sqrt(1+x/(-x))\n",
    "    return y"
   ]
  },
  {
   "cell_type": "code",
   "execution_count": 14,
   "metadata": {},
   "outputs": [
    {
     "data": {
      "text/plain": [
       "[<matplotlib.lines.Line2D at 0x7fb4026bae50>]"
      ]
     },
     "execution_count": 14,
     "metadata": {},
     "output_type": "execute_result"
    },
    {
     "data": {
      "image/png": "[encoded data removed]",
      "text/plain": [
       "<Figure size 432x288 with 1 Axes>"
      ]
     },
     "metadata": {
      "needs_background": "light"
     },
     "output_type": "display_data"
    }
   ],
   "source": [
    "plt.figure()\n",
    "plt.plot(x, aproximada(x,6,40))"
   ]
  },
  {
   "cell_type": "code",
   "execution_count": 16,
   "metadata": {},
   "outputs": [],
   "source": [
    "def tanDl(x, l, rho):\n",
    "    y=rho*np.sqrt(x+1)\n",
    "    z=rho*np.sqrt(x)\n",
    "    g=y*spe.spherical_jn(l,z)*spe.spherical_jn(l,y, derivative=True)-z*spe.spherical_jn(l,z, derivative=True)*spe.spherical_jn(l,y)\n",
    "    h=z*spe.spherical_yn(l,z, derivative=True)*spe.spherical_jn(l,y)-y*spe.spherical_jn(l,y,derivative=True)*spe.spherical_yn(l,z)\n",
    "    f=-g/h\n",
    "    return f\n",
    "    "
   ]
  },
  {
   "cell_type": "code",
   "execution_count": 18,
   "metadata": {},
   "outputs": [],
   "source": [
    "def sigma(x, l, rho,R):\n",
    "    d=tanDl(x,l,rho)\n",
    "    sigma=4*np.pi*(2*l+1)*d**2*R**2/((rho**2*x)*(1-d**2))\n",
    "    return sigma"
   ]
  },
  {
   "cell_type": "code",
   "execution_count": 28,
   "metadata": {},
   "outputs": [
    {
     "name": "stderr",
     "output_type": "stream",
     "text": [
      "/srv/conda/envs/notebook/lib/python3.7/site-packages/ipykernel_launcher.py:5: RuntimeWarning: invalid value encountered in multiply\n",
      "  \"\"\"\n"
     ]
    },
    {
     "data": {
      "text/plain": [
       "[<matplotlib.lines.Line2D at 0x7fb402364dd0>]"
      ]
     },
     "execution_count": 28,
     "metadata": {},
     "output_type": "execute_result"
    },
    {
     "data": {
      "image/png": "[encoded data removed]",
      "text/plain": [
       "<Figure size 432x288 with 1 Axes>"
      ]
     },
     "metadata": {
      "needs_background": "light"
     },
     "output_type": "display_data"
    }
   ],
   "source": [
    "x=np.arange(0,5,0.01)\n",
    "plt.figure()\n",
    "plt.plot(x, sigma(x,0,40,1))"
   ]
  },
  {
   "cell_type": "code",
   "execution_count": 21,
   "metadata": {},
   "outputs": [
    {
     "data": {
      "text/plain": [
       "array([1.56635441])"
      ]
     },
     "execution_count": 21,
     "metadata": {},
     "output_type": "execute_result"
    }
   ],
   "source": [
    "tanDl(x,0,10)"
   ]
  },
  {
   "cell_type": "code",
   "execution_count": 22,
   "metadata": {},
   "outputs": [
    {
     "data": {
      "text/plain": [
       "array([0.9999])"
      ]
     },
     "execution_count": 22,
     "metadata": {},
     "output_type": "execute_result"
    }
   ],
   "source": [
    "x"
   ]
  },
  {
   "cell_type": "code",
   "execution_count": null,
   "metadata": {},
   "outputs": [],
   "source": []
  }
 ],
 "metadata": {
  "kernelspec": {
   "display_name": "Python 3",
   "language": "python",
   "name": "python3"
  },
  "language_info": {
   "codemirror_mode": {
    "name": "ipython",
    "version": 3
   },
   "file_extension": ".py",
   "mimetype": "text/x-python",
   "name": "python",
   "nbconvert_exporter": "python",
   "pygments_lexer": "ipython3",
   "version": "3.7.6"
  }
 },
 "nbformat": 4,
 "nbformat_minor": 4
}
