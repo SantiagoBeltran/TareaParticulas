{
 "cells": [
  {
   "cell_type": "code",
   "execution_count": 1,
   "metadata": {},
   "outputs": [
    {
     "name": "stdout",
     "output_type": "stream",
     "text": [
      "Populating the interactive namespace from numpy and matplotlib\n"
     ]
    }
   ],
   "source": [
    "%pylab inline"
   ]
  },
  {
   "cell_type": "code",
   "execution_count": 2,
   "metadata": {},
   "outputs": [],
   "source": [
    "import scipy.special as spe\n",
    "from scipy.optimize import fsolve"
   ]
  },
  {
   "cell_type": "code",
   "execution_count": 3,
   "metadata": {},
   "outputs": [],
   "source": [
    "def continuidad(x, l, rho):\n",
    "    y=rho*np.sqrt(x+1)\n",
    "    z=rho*np.sqrt(-x)\n",
    "    g=y*spe.spherical_jn(l,y,derivative=True)/spe.spherical_jn(l,y)\n",
    "    h=z*spe.spherical_kn(l,z,derivative=True)/spe.spherical_kn(l,z)\n",
    "    f=g-h\n",
    "    return f"
   ]
  },
  {
   "cell_type": "code",
   "execution_count": 33,
   "metadata": {},
   "outputs": [
    {
     "data": {
      "text/plain": [
       "[<matplotlib.lines.Line2D at 0x7f6c34be8950>]"
      ]
     },
     "execution_count": 33,
     "metadata": {},
     "output_type": "execute_result"
    },
    {
     "data": {
      "image/png": "[encoded data removed]",
      "text/plain": [
       "<Figure size 432x288 with 1 Axes>"
      ]
     },
     "metadata": {
      "needs_background": "light"
     },
     "output_type": "display_data"
    }
   ],
   "source": [
    "plt.figure()\n",
    "x=np.arange(-1,0,0.01)\n",
    "plt.plot(x, continuidad(x, 0, np.sqrt(40)))"
   ]
  },
  {
   "cell_type": "code",
   "execution_count": 18,
   "metadata": {},
   "outputs": [
    {
     "data": {
      "text/plain": [
       "0.003709152935170046"
      ]
     },
     "execution_count": 18,
     "metadata": {},
     "output_type": "execute_result"
    }
   ],
   "source": [
    "continuidad(-0.678, 0, np.sqrt(20))"
   ]
  },
  {
   "cell_type": "code",
   "execution_count": 22,
   "metadata": {},
   "outputs": [
    {
     "name": "stderr",
     "output_type": "stream",
     "text": [
      "/srv/conda/envs/notebook/lib/python3.7/site-packages/ipykernel_launcher.py:4: RuntimeWarning: invalid value encountered in double_scalars\n",
      "  after removing the cwd from sys.path.\n"
     ]
    },
    {
     "data": {
      "text/plain": [
       "array([-0.63 , -0.006])"
      ]
     },
     "execution_count": 22,
     "metadata": {},
     "output_type": "execute_result"
    }
   ],
   "source": [
    "def hallarCeros(f,l, rho,toi=0.0005):\n",
    "    g=np.arange(-1,0, 0.00001)\n",
    "    ceros=[]\n",
    "    for i in range(len(g)):\n",
    "        if np.abs(f(g[i],l,rho))<toi:\n",
    "            ceros.append(np.round(g[i],3))       \n",
    "    zeros=np.unique(ceros) \n",
    "    return zeros\n",
    "hallarCeros(continuidad, 1, np.sqrt(40))"
   ]
  },
  {
   "cell_type": "code",
   "execution_count": 23,
   "metadata": {},
   "outputs": [
    {
     "name": "stderr",
     "output_type": "stream",
     "text": [
      "/srv/conda/envs/notebook/lib/python3.7/site-packages/ipykernel_launcher.py:4: RuntimeWarning: invalid value encountered in double_scalars\n",
      "  after removing the cwd from sys.path.\n"
     ]
    },
    {
     "name": "stdout",
     "output_type": "stream",
     "text": [
      "[0. 1.] [-0.678 -0.358]\n",
      "[0. 0. 1. 2.] [-0.768 -0.136 -0.532 -0.244]\n",
      "[0. 0. 1. 1. 2. 3.] [-0.818 -0.3   -0.63  -0.006 -0.399 -0.131]\n",
      "[0. 0. 1. 1. 2. 3. 3. 4.] [-0.85  -0.414 -0.694 -0.14  -0.501 -0.274 -0.273 -0.018]\n",
      "[0. 0. 1. 1. 2. 2. 3. 4.] [-0.872 -0.497 -0.739 -0.254 -0.573 -0.003 -0.376 -0.153]\n"
     ]
    },
    {
     "data": {
      "text/plain": [
       "<matplotlib.legend.Legend at 0x7f6c34d36e90>"
      ]
     },
     "execution_count": 23,
     "metadata": {},
     "output_type": "execute_result"
    },
    {
     "data": {
      "image/png": "[encoded data removed]",
      "text/plain": [
       "<Figure size 432x288 with 1 Axes>"
      ]
     },
     "metadata": {
      "needs_background": "light"
     },
     "output_type": "display_data"
    }
   ],
   "source": [
    "plt.figure()\n",
    "rho=np.sqrt(np.arange(20,70,10))\n",
    "l=np.arange(0,6,1)\n",
    "energy=np.zeros((len(rho), len(l)))\n",
    "for i in range(len(rho)):\n",
    "    y=hallarCeros(continuidad, l[0], rho[i])\n",
    "    x=np.ones(len(y))*l[0]\n",
    "    for j in range(1,len(l)):\n",
    "        a=hallarCeros(continuidad, l[j], rho[i])\n",
    "        y=np.concatenate((y,a))\n",
    "        x=np.concatenate((x,np.ones(len(a))*l[j]))\n",
    "    print(x,y)\n",
    "    plt.scatter(x,y, s=700, marker=\"_\", label=r\"$V_0=${}\".format(round(rho[i]**2, 0)))\n",
    "plt.legend()        "
   ]
  },
  {
   "cell_type": "code",
   "execution_count": 34,
   "metadata": {},
   "outputs": [],
   "source": [
    "def tanDl(x, l, rho):\n",
    "    y=rho*np.sqrt(x+1)\n",
    "    z=1j*rho*np.sqrt(-x)\n",
    "    g=y*spe.spherical_jn(l,z)*spe.spherical_jn(l,y, derivative=True)-z*spe.spherical_jn(l,z, derivative=True)*spe.spherical_jn(l,y)\n",
    "    h=z*spe.spherical_yn(l,z, derivative=True)*spe.spherical_jn(l,y)-y*spe.spherical_jn(l,y,derivative=True)*spe.spherical_yn(l,1j*z)\n",
    "    f=-g/h\n",
    "    return f\n",
    "    "
   ]
  },
  {
   "cell_type": "code",
   "execution_count": 35,
   "metadata": {},
   "outputs": [],
   "source": [
    "def sigma(x, rho):\n",
    "    s=0\n",
    "    for i in range(10):\n",
    "        d=tanDl(x,i,rho)/(np.sqrt(1+tanDl(x,i,rho)**2))\n",
    "        s+=-4*np.pi*(2*i+1)*(d.real**2)/(rho**2*x)\n",
    "    return s"
   ]
  },
  {
   "cell_type": "code",
   "execution_count": 37,
   "metadata": {},
   "outputs": [
    {
     "name": "stderr",
     "output_type": "stream",
     "text": [
      "/srv/conda/envs/notebook/lib/python3.7/site-packages/ipykernel_launcher.py:6: RuntimeWarning: invalid value encountered in true_divide\n",
      "  \n"
     ]
    },
    {
     "data": {
      "text/plain": [
       "[<matplotlib.lines.Line2D at 0x7f6c34ae3110>]"
      ]
     },
     "execution_count": 37,
     "metadata": {},
     "output_type": "execute_result"
    },
    {
     "data": {
      "image/png": "[encoded data removed]",
      "text/plain": [
       "<Figure size 432x288 with 1 Axes>"
      ]
     },
     "metadata": {
      "needs_background": "light"
     },
     "output_type": "display_data"
    }
   ],
   "source": [
    "x=np.arange(-1,0.0,0.001)\n",
    "plt.figure()\n",
    "plt.plot(x, sigma(x,np.sqrt(40)))\n",
    "#plt.ylim(0,1000)"
   ]
  },
  {
   "cell_type": "code",
   "execution_count": 27,
   "metadata": {},
   "outputs": [
    {
     "name": "stderr",
     "output_type": "stream",
     "text": [
      "/srv/conda/envs/notebook/lib/python3.7/site-packages/ipykernel_launcher.py:6: RuntimeWarning: invalid value encountered in true_divide\n",
      "  \n"
     ]
    },
    {
     "data": {
      "text/plain": [
       "array([-0.147, -0.146, -0.145, -0.144, -0.143, -0.142, -0.141, -0.14 ,\n",
       "       -0.139, -0.138, -0.137, -0.136, -0.135, -0.134, -0.016, -0.015,\n",
       "       -0.014, -0.013, -0.012, -0.011, -0.01 , -0.009])"
      ]
     },
     "execution_count": 27,
     "metadata": {},
     "output_type": "execute_result"
    }
   ],
   "source": [
    "x[sigma(x,np.sqrt(40))>50]"
   ]
  },
  {
   "cell_type": "code",
   "execution_count": 22,
   "metadata": {},
   "outputs": [
    {
     "data": {
      "text/plain": [
       "array([0.9999])"
      ]
     },
     "execution_count": 22,
     "metadata": {},
     "output_type": "execute_result"
    }
   ],
   "source": [
    "x"
   ]
  },
  {
   "cell_type": "code",
   "execution_count": null,
   "metadata": {},
   "outputs": [],
   "source": []
  }
 ],
 "metadata": {
  "kernelspec": {
   "display_name": "Python 3",
   "language": "python",
   "name": "python3"
  },
  "language_info": {
   "codemirror_mode": {
    "name": "ipython",
    "version": 3
   },
   "file_extension": ".py",
   "mimetype": "text/x-python",
   "name": "python",
   "nbconvert_exporter": "python",
   "pygments_lexer": "ipython3",
   "version": "3.7.6"
  }
 },
 "nbformat": 4,
 "nbformat_minor": 4
}
