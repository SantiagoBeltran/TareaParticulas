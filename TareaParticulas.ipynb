{
 "cells": [
  {
   "cell_type": "code",
   "execution_count": 1,
   "metadata": {},
   "outputs": [
    {
     "name": "stdout",
     "output_type": "stream",
     "text": [
      "Populating the interactive namespace from numpy and matplotlib\n"
     ]
    }
   ],
   "source": [
    "%pylab inline"
   ]
  },
  {
   "cell_type": "code",
   "execution_count": 2,
   "metadata": {},
   "outputs": [],
   "source": [
    "import scipy.special as spe\n",
    "from scipy.optimize import fsolve"
   ]
  },
  {
   "cell_type": "code",
   "execution_count": 3,
   "metadata": {},
   "outputs": [],
   "source": [
    "def continuidad(x, l, rho):\n",
    "    y=rho*np.sqrt(x+1)\n",
    "    z=rho*np.sqrt(-x)\n",
    "    g=y*spe.spherical_jn(l,y,derivative=True)/spe.spherical_jn(l,y)\n",
    "    h=z*spe.spherical_kn(l,z,derivative=True)/spe.spherical_kn(l,z)\n",
    "    f=g-h\n",
    "    return f"
   ]
  },
  {
   "cell_type": "code",
   "execution_count": 55,
   "metadata": {},
   "outputs": [
    {
     "name": "stderr",
     "output_type": "stream",
     "text": [
      "/srv/conda/envs/notebook/lib/python3.7/site-packages/ipykernel_launcher.py:4: RuntimeWarning: invalid value encountered in true_divide\n",
      "  after removing the cwd from sys.path.\n"
     ]
    },
    {
     "data": {
      "text/plain": [
       "[<matplotlib.lines.Line2D at 0x7f16bda92050>]"
      ]
     },
     "execution_count": 55,
     "metadata": {},
     "output_type": "execute_result"
    },
    {
     "data": {
      "image/png": "[encoded data removed]",
      "text/plain": [
       "<Figure size 432x288 with 1 Axes>"
      ]
     },
     "metadata": {
      "needs_background": "light"
     },
     "output_type": "display_data"
    }
   ],
   "source": [
    "plt.figure()\n",
    "x=np.arange(-1,0,0.01)\n",
    "plt.plot(x, continuidad(x, 5, np.sqrt(40)))"
   ]
  },
  {
   "cell_type": "code",
   "execution_count": 49,
   "metadata": {},
   "outputs": [
    {
     "data": {
      "text/plain": [
       "8.459971947488583"
      ]
     },
     "execution_count": 49,
     "metadata": {},
     "output_type": "execute_result"
    }
   ],
   "source": [
    "continuidad(-0.9999, 1, np.sqrt(40))"
   ]
  },
  {
   "cell_type": "code",
   "execution_count": 38,
   "metadata": {
    "jupyter": {
     "source_hidden": true
    }
   },
   "outputs": [
    {
     "ename": "ModuleNotFoundError",
     "evalue": "No module named 'sympy'",
     "output_type": "error",
     "traceback": [
      "\u001b[0;31m---------------------------------------------------------------------------\u001b[0m",
      "\u001b[0;31mModuleNotFoundError\u001b[0m                       Traceback (most recent call last)",
      "\u001b[0;32m<ipython-input-38-22edd9e07b61>\u001b[0m in \u001b[0;36m<module>\u001b[0;34m\u001b[0m\n\u001b[0;32m----> 1\u001b[0;31m \u001b[0;32mfrom\u001b[0m \u001b[0msympy\u001b[0m \u001b[0;32mimport\u001b[0m \u001b[0;34m*\u001b[0m\u001b[0;34m\u001b[0m\u001b[0;34m\u001b[0m\u001b[0m\n\u001b[0m\u001b[1;32m      2\u001b[0m \u001b[0mx\u001b[0m\u001b[0;34m=\u001b[0m\u001b[0mSymbol\u001b[0m\u001b[0;34m(\u001b[0m\u001b[0;34m'x'\u001b[0m\u001b[0;34m)\u001b[0m\u001b[0;34m\u001b[0m\u001b[0;34m\u001b[0m\u001b[0m\n\u001b[1;32m      3\u001b[0m \u001b[0mans\u001b[0m\u001b[0;34m=\u001b[0m\u001b[0msolve\u001b[0m\u001b[0;34m(\u001b[0m\u001b[0mcontinuidad\u001b[0m\u001b[0;34m(\u001b[0m\u001b[0mx\u001b[0m\u001b[0;34m,\u001b[0m\u001b[0;36m0\u001b[0m\u001b[0;34m,\u001b[0m\u001b[0mnp\u001b[0m\u001b[0;34m.\u001b[0m\u001b[0msqrt\u001b[0m\u001b[0;34m(\u001b[0m\u001b[0;36m40\u001b[0m\u001b[0;34m)\u001b[0m\u001b[0;34m)\u001b[0m\u001b[0;34m)\u001b[0m\u001b[0;34m\u001b[0m\u001b[0;34m\u001b[0m\u001b[0m\n\u001b[1;32m      4\u001b[0m \u001b[0mprint\u001b[0m\u001b[0;34m(\u001b[0m\u001b[0mans\u001b[0m\u001b[0;34m)\u001b[0m\u001b[0;34m\u001b[0m\u001b[0;34m\u001b[0m\u001b[0m\n",
      "\u001b[0;31mModuleNotFoundError\u001b[0m: No module named 'sympy'"
     ]
    }
   ],
   "source": [
    "from sympy import *\n",
    "x=Symbol('x')\n",
    "ans=solve(continuidad(x,0,np.sqrt(40)))\n",
    "print(ans)"
   ]
  },
  {
   "cell_type": "code",
   "execution_count": 52,
   "metadata": {},
   "outputs": [
    {
     "name": "stderr",
     "output_type": "stream",
     "text": [
      "/srv/conda/envs/notebook/lib/python3.7/site-packages/ipykernel_launcher.py:4: RuntimeWarning: invalid value encountered in double_scalars\n",
      "  after removing the cwd from sys.path.\n"
     ]
    },
    {
     "data": {
      "text/plain": [
       "array([-0.63 , -0.006])"
      ]
     },
     "execution_count": 52,
     "metadata": {},
     "output_type": "execute_result"
    }
   ],
   "source": [
    "def hallarCeros(f,l, rho,toi=0.0005):\n",
    "    g=np.arange(-1,0, 0.00001)\n",
    "    ceros=[]\n",
    "    for i in range(len(g)):\n",
    "        if np.abs(f(g[i],l,rho))<toi:\n",
    "            ceros.append(np.round(g[i],3))       \n",
    "    zeros=np.unique(ceros) \n",
    "    return zeros\n",
    "hallarCeros(continuidad, 1, np.sqrt(40))"
   ]
  },
  {
   "cell_type": "code",
   "execution_count": 60,
   "metadata": {},
   "outputs": [
    {
     "name": "stderr",
     "output_type": "stream",
     "text": [
      "/srv/conda/envs/notebook/lib/python3.7/site-packages/ipykernel_launcher.py:4: RuntimeWarning: invalid value encountered in double_scalars\n",
      "  after removing the cwd from sys.path.\n"
     ]
    },
    {
     "name": "stdout",
     "output_type": "stream",
     "text": [
      "[0. 0. 1. 1. 2. 3.] [-0.818 -0.3   -0.63  -0.006 -0.399 -0.131]\n",
      "[0. 0. 1. 1. 2. 3. 4.] [-0.85  -0.414 -0.694 -0.14  -0.501 -0.274 -0.018]\n",
      "[0. 0. 1. 1. 2. 2. 3. 4.] [-0.872 -0.497 -0.739 -0.254 -0.573 -0.003 -0.376 -0.153]\n",
      "[0. 0. 1. 2. 2. 3. 4. 5.] [-0.559 -0.062 -0.342 -0.626 -0.107 -0.454 -0.256 -0.036]\n",
      "[0. 0. 1. 2. 3. 4. 5.] [-0.607 -0.149 -0.412 -0.197 -0.514 -0.337 -0.138]\n"
     ]
    },
    {
     "data": {
      "text/plain": [
       "<matplotlib.legend.Legend at 0x7f16bd863910>"
      ]
     },
     "execution_count": 60,
     "metadata": {},
     "output_type": "execute_result"
    },
    {
     "data": {
      "image/png": "[encoded data removed]",
      "text/plain": [
       "<Figure size 432x288 with 1 Axes>"
      ]
     },
     "metadata": {
      "needs_background": "light"
     },
     "output_type": "display_data"
    }
   ],
   "source": [
    "plt.figure()\n",
    "rho=np.sqrt(np.arange(40,90,10))\n",
    "l=np.arange(0,6,1)\n",
    "energy=np.zeros((len(rho), len(l)))\n",
    "for i in range(len(rho)):\n",
    "    y=hallarCeros(continuidad, l[0], rho[i])\n",
    "    x=np.ones(len(y))*l[0]\n",
    "    for j in range(1,len(l)):\n",
    "        a=hallarCeros(continuidad, l[j], rho[i])\n",
    "        y=np.concatenate((y,a))\n",
    "        x=np.concatenate((x,np.ones(len(a))*l[j]))\n",
    "    print(x,y)\n",
    "    plt.scatter(x,y, s=700, marker=\"_\", label=r\"$V_0=${}\".format(round(rho[i]**2, 0)))\n",
    "plt.legend()        "
   ]
  },
  {
   "cell_type": "code",
   "execution_count": 43,
   "metadata": {},
   "outputs": [
    {
     "data": {
      "text/plain": [
       "\u001b[0;31mDocstring:\u001b[0m\n",
       "concatenate((a1, a2, ...), axis=0, out=None)\n",
       "\n",
       "Join a sequence of arrays along an existing axis.\n",
       "\n",
       "Parameters\n",
       "----------\n",
       "a1, a2, ... : sequence of array_like\n",
       "    The arrays must have the same shape, except in the dimension\n",
       "    corresponding to `axis` (the first, by default).\n",
       "axis : int, optional\n",
       "    The axis along which the arrays will be joined.  If axis is None,\n",
       "    arrays are flattened before use.  Default is 0.\n",
       "out : ndarray, optional\n",
       "    If provided, the destination to place the result. The shape must be\n",
       "    correct, matching that of what concatenate would have returned if no\n",
       "    out argument were specified.\n",
       "\n",
       "Returns\n",
       "-------\n",
       "res : ndarray\n",
       "    The concatenated array.\n",
       "\n",
       "See Also\n",
       "--------\n",
       "ma.concatenate : Concatenate function that preserves input masks.\n",
       "array_split : Split an array into multiple sub-arrays of equal or\n",
       "              near-equal size.\n",
       "split : Split array into a list of multiple sub-arrays of equal size.\n",
       "hsplit : Split array into multiple sub-arrays horizontally (column wise)\n",
       "vsplit : Split array into multiple sub-arrays vertically (row wise)\n",
       "dsplit : Split array into multiple sub-arrays along the 3rd axis (depth).\n",
       "stack : Stack a sequence of arrays along a new axis.\n",
       "hstack : Stack arrays in sequence horizontally (column wise)\n",
       "vstack : Stack arrays in sequence vertically (row wise)\n",
       "dstack : Stack arrays in sequence depth wise (along third dimension)\n",
       "block : Assemble arrays from blocks.\n",
       "\n",
       "Notes\n",
       "-----\n",
       "When one or more of the arrays to be concatenated is a MaskedArray,\n",
       "this function will return a MaskedArray object instead of an ndarray,\n",
       "but the input masks are *not* preserved. In cases where a MaskedArray\n",
       "is expected as input, use the ma.concatenate function from the masked\n",
       "array module instead.\n",
       "\n",
       "Examples\n",
       "--------\n",
       ">>> a = np.array([[1, 2], [3, 4]])\n",
       ">>> b = np.array([[5, 6]])\n",
       ">>> np.concatenate((a, b), axis=0)\n",
       "array([[1, 2],\n",
       "       [3, 4],\n",
       "       [5, 6]])\n",
       ">>> np.concatenate((a, b.T), axis=1)\n",
       "array([[1, 2, 5],\n",
       "       [3, 4, 6]])\n",
       ">>> np.concatenate((a, b), axis=None)\n",
       "array([1, 2, 3, 4, 5, 6])\n",
       "\n",
       "This function will not preserve masking of MaskedArray inputs.\n",
       "\n",
       ">>> a = np.ma.arange(3)\n",
       ">>> a[1] = np.ma.masked\n",
       ">>> b = np.arange(2, 5)\n",
       ">>> a\n",
       "masked_array(data=[0, --, 2],\n",
       "             mask=[False,  True, False],\n",
       "       fill_value=999999)\n",
       ">>> b\n",
       "array([2, 3, 4])\n",
       ">>> np.concatenate([a, b])\n",
       "masked_array(data=[0, 1, 2, 2, 3, 4],\n",
       "             mask=False,\n",
       "       fill_value=999999)\n",
       ">>> np.ma.concatenate([a, b])\n",
       "masked_array(data=[0, --, 2, 2, 3, 4],\n",
       "             mask=[False,  True, False, False, False, False],\n",
       "       fill_value=999999)\n",
       "\u001b[0;31mType:\u001b[0m      function\n"
      ]
     },
     "metadata": {},
     "output_type": "display_data"
    }
   ],
   "source": [
    "np.concatenate?"
   ]
  },
  {
   "cell_type": "code",
   "execution_count": 51,
   "metadata": {},
   "outputs": [],
   "source": [
    "def bisection(a,b,f,l, rho,toi=1E-6):\n",
    "    xl=a\n",
    "    xr=b\n",
    "    while(np.abs(xl-xr)>=toi):\n",
    "        c=(xl+xr)/2.0\n",
    "        prod=f(xl, l,rho)*f(c, l, rho)\n",
    "        if prod>toi:\n",
    "            xl=c\n",
    "        else:\n",
    "            if prod<toi:\n",
    "                xr=c\n",
    "    return c            "
   ]
  },
  {
   "cell_type": "code",
   "execution_count": null,
   "metadata": {},
   "outputs": [],
   "source": [
    "bisection(-0.999,0, continuidad, 6, 10)"
   ]
  },
  {
   "cell_type": "code",
   "execution_count": null,
   "metadata": {},
   "outputs": [],
   "source": [
    "rho=np.sqrt(np.arange(10,100,10))\n",
    "l=np.arange(0,11,1)\n",
    "energias=np.zeros((len(rho), len(l)))"
   ]
  },
  {
   "cell_type": "code",
   "execution_count": null,
   "metadata": {},
   "outputs": [],
   "source": [
    "for i in range(len(rho)):\n",
    "    for j in range(len(l)):\n",
    "        energias[i][j]=bisection(-0.99999,0, continuidad, l[j], rho[i])\n",
    "energias"
   ]
  },
  {
   "cell_type": "code",
   "execution_count": null,
   "metadata": {},
   "outputs": [],
   "source": [
    "energias[1]"
   ]
  },
  {
   "cell_type": "code",
   "execution_count": null,
   "metadata": {},
   "outputs": [],
   "source": [
    "plt.plot(l, energias[1])"
   ]
  },
  {
   "cell_type": "code",
   "execution_count": null,
   "metadata": {},
   "outputs": [],
   "source": [
    "energias[:,1]"
   ]
  },
  {
   "cell_type": "code",
   "execution_count": null,
   "metadata": {},
   "outputs": [],
   "source": [
    "plt.plot(rho, energias[:,0])"
   ]
  },
  {
   "cell_type": "code",
   "execution_count": null,
   "metadata": {},
   "outputs": [],
   "source": [
    "def aproximada(x, l, rho):\n",
    "    y=np.tan(rho*np.sqrt(1+x)-np.pi*l/2.0)+np.sqrt(1+x/(-x))\n",
    "    return y"
   ]
  },
  {
   "cell_type": "code",
   "execution_count": null,
   "metadata": {},
   "outputs": [],
   "source": [
    "plt.figure()\n",
    "plt.plot(x, aproximada(x,6,40))"
   ]
  },
  {
   "cell_type": "code",
   "execution_count": 24,
   "metadata": {},
   "outputs": [],
   "source": [
    "def tanDl(x, l, rho):\n",
    "    y=rho*np.sqrt(x+1)\n",
    "    z=rho*np.sqrt(-x)\n",
    "    g=y*spe.spherical_jn(l,z)*spe.spherical_jn(l,y, derivative=True)-z*spe.spherical_jn(l,z, derivative=True)*spe.spherical_jn(l,y)\n",
    "    h=1j*z*spe.spherical_yn(l,1j*z, derivative=True)*spe.spherical_jn(l,1j*y)-y*spe.spherical_jn(l,1j*y,derivative=True)*spe.spherical_yn(l,1j*z)\n",
    "    f=-g/h\n",
    "    return f\n",
    "    "
   ]
  },
  {
   "cell_type": "code",
   "execution_count": 34,
   "metadata": {},
   "outputs": [],
   "source": [
    "def sigma(x, rho):\n",
    "    s=0\n",
    "    for i in range(10):\n",
    "        d=tanDl(x,i,rho)*tanDl(x,i,rho).conjugate()\n",
    "        s+=4*np.pi*(2*i+1)*d/((rho**2*x)*(1+d))\n",
    "    return s"
   ]
  },
  {
   "cell_type": "code",
   "execution_count": 35,
   "metadata": {},
   "outputs": [
    {
     "name": "stderr",
     "output_type": "stream",
     "text": [
      "/srv/conda/envs/notebook/lib/python3.7/site-packages/numpy/core/_asarray.py:85: ComplexWarning: Casting complex values to real discards the imaginary part\n",
      "  return array(a, dtype, copy=False, order=order)\n"
     ]
    },
    {
     "data": {
      "text/plain": [
       "[<matplotlib.lines.Line2D at 0x7f16bdf4ed90>]"
      ]
     },
     "execution_count": 35,
     "metadata": {},
     "output_type": "execute_result"
    },
    {
     "data": {
      "image/png": "[encoded data removed]",
      "text/plain": [
       "<Figure size 432x288 with 1 Axes>"
      ]
     },
     "metadata": {
      "needs_background": "light"
     },
     "output_type": "display_data"
    }
   ],
   "source": [
    "x=np.arange(-1,0.0,0.001)\n",
    "plt.figure()\n",
    "plt.plot(x, sigma(x,np.sqrt(20)))"
   ]
  },
  {
   "cell_type": "code",
   "execution_count": 19,
   "metadata": {},
   "outputs": [
    {
     "data": {
      "text/plain": [
       "array([ 1.56635379e+00,  1.56635789e+00,  1.56635750e+00,  1.56635303e+00,\n",
       "        1.56634490e+00,  1.56633352e+00,  1.56631934e+00,  1.56630277e+00,\n",
       "        1.56628424e+00,  1.56626419e+00,  1.56624305e+00,  1.56622125e+00,\n",
       "        1.56619924e+00,  1.56617746e+00,  1.56615635e+00,  1.56613634e+00,\n",
       "        1.56611790e+00,  1.56610146e+00,  1.56608748e+00,  1.56607641e+00,\n",
       "        1.56606870e+00,  1.56606480e+00,  1.56606517e+00,  1.56607026e+00,\n",
       "        1.56608054e+00,  1.56609646e+00,  1.56611847e+00,  1.56614705e+00,\n",
       "        1.56618266e+00,  1.56622574e+00,  1.56627678e+00,  1.56633623e+00,\n",
       "        1.56640456e+00,  1.56648223e+00,  1.56656971e+00,  1.56666746e+00,\n",
       "        1.56677595e+00,  1.56689566e+00,  1.56702704e+00,  1.56717056e+00,\n",
       "        1.56732670e+00,  1.56749592e+00,  1.56767869e+00,  1.56787547e+00,\n",
       "        1.56808675e+00,  1.56831298e+00,  1.56855464e+00,  1.56881220e+00,\n",
       "        1.56908612e+00,  1.56937688e+00,  1.56968494e+00,  1.57001078e+00,\n",
       "        1.57035486e+00,  1.57071766e+00,  1.57109963e+00,  1.57150126e+00,\n",
       "        1.57192301e+00,  1.57236535e+00,  1.57282875e+00,  1.57331369e+00,\n",
       "        1.57382062e+00,  1.57435001e+00,  1.57490235e+00,  1.57547809e+00,\n",
       "        1.57607771e+00,  1.57670167e+00,  1.57735045e+00,  1.57802450e+00,\n",
       "        1.57872432e+00,  1.57945035e+00,  1.58020308e+00,  1.58098297e+00,\n",
       "        1.58179049e+00,  1.58262612e+00,  1.58349032e+00,  1.58438357e+00,\n",
       "        1.58530633e+00,  1.58625908e+00,  1.58724230e+00,  1.58825645e+00,\n",
       "        1.58930201e+00,  1.59037945e+00,  1.59148925e+00,  1.59263189e+00,\n",
       "        1.59380784e+00,  1.59501759e+00,  1.59626160e+00,  1.59754036e+00,\n",
       "        1.59885436e+00,  1.60020407e+00,  1.60158998e+00,  1.60301257e+00,\n",
       "        1.60447234e+00,  1.60596977e+00,  1.60750535e+00,  1.60907957e+00,\n",
       "        1.61069293e+00,  1.61234593e+00,  1.61403907e+00,  1.61577284e+00,\n",
       "        1.61754775e+00,  1.61936431e+00,  1.62122302e+00,  1.62312440e+00,\n",
       "        1.62506896e+00,  1.62705723e+00,  1.62908971e+00,  1.63116693e+00,\n",
       "        1.63328943e+00,  1.63545773e+00,  1.63767238e+00,  1.63993390e+00,\n",
       "        1.64224284e+00,  1.64459975e+00,  1.64700519e+00,  1.64945970e+00,\n",
       "        1.65196386e+00,  1.65451822e+00,  1.65712336e+00,  1.65977986e+00,\n",
       "        1.66248830e+00,  1.66524926e+00,  1.66806335e+00,  1.67093116e+00,\n",
       "        1.67385330e+00,  1.67683038e+00,  1.67986303e+00,  1.68295186e+00,\n",
       "        1.68609753e+00,  1.68930066e+00,  1.69256191e+00,  1.69588194e+00,\n",
       "        1.69926141e+00,  1.70270100e+00,  1.70620139e+00,  1.70976328e+00,\n",
       "        1.71338737e+00,  1.71707436e+00,  1.72082499e+00,  1.72463998e+00,\n",
       "        1.72852008e+00,  1.73246604e+00,  1.73647862e+00,  1.74055861e+00,\n",
       "        1.74470679e+00,  1.74892396e+00,  1.75321093e+00,  1.75756854e+00,\n",
       "        1.76199762e+00,  1.76649902e+00,  1.77107362e+00,  1.77572229e+00,\n",
       "        1.78044594e+00,  1.78524547e+00,  1.79012182e+00,  1.79507593e+00,\n",
       "        1.80010876e+00,  1.80522129e+00,  1.81041453e+00,  1.81568948e+00,\n",
       "        1.82104718e+00,  1.82648868e+00,  1.83201506e+00,  1.83762742e+00,\n",
       "        1.84332686e+00,  1.84911454e+00,  1.85499159e+00,  1.86095922e+00,\n",
       "        1.86701862e+00,  1.87317103e+00,  1.87941770e+00,  1.88575992e+00,\n",
       "        1.89219899e+00,  1.89873625e+00,  1.90537307e+00,  1.91211083e+00,\n",
       "        1.91895096e+00,  1.92589491e+00,  1.93294418e+00,  1.94010026e+00,\n",
       "        1.94736473e+00,  1.95473916e+00,  1.96222517e+00,  1.96982442e+00,\n",
       "        1.97753861e+00,  1.98536947e+00,  1.99331878e+00,  2.00138834e+00,\n",
       "        2.00958002e+00,  2.01789573e+00,  2.02633740e+00,  2.03490703e+00,\n",
       "        2.04360665e+00,  2.05243837e+00,  2.06140432e+00,  2.07050670e+00,\n",
       "        2.07974775e+00,  2.08912977e+00,  2.09865514e+00,  2.10832626e+00,\n",
       "        2.11814562e+00,  2.12811578e+00,  2.13823933e+00,  2.14851896e+00,\n",
       "        2.15895742e+00,  2.16955753e+00,  2.18032218e+00,  2.19125435e+00,\n",
       "        2.20235709e+00,  2.21363353e+00,  2.22508690e+00,  2.23672050e+00,\n",
       "        2.24853772e+00,  2.26054207e+00,  2.27273714e+00,  2.28512661e+00,\n",
       "        2.29771429e+00,  2.31050407e+00,  2.32349997e+00,  2.33670613e+00,\n",
       "        2.35012680e+00,  2.36376636e+00,  2.37762931e+00,  2.39172030e+00,\n",
       "        2.40604411e+00,  2.42060566e+00,  2.43541003e+00,  2.45046244e+00,\n",
       "        2.46576830e+00,  2.48133316e+00,  2.49716275e+00,  2.51326300e+00,\n",
       "        2.52964000e+00,  2.54630005e+00,  2.56324967e+00,  2.58049556e+00,\n",
       "        2.59804467e+00,  2.61590415e+00,  2.63408143e+00,  2.65258415e+00,\n",
       "        2.67142022e+00,  2.69059784e+00,  2.71012548e+00,  2.73001190e+00,\n",
       "        2.75026618e+00,  2.77089770e+00,  2.79191620e+00,  2.81333176e+00,\n",
       "        2.83515483e+00,  2.85739623e+00,  2.88006721e+00,  2.90317941e+00,\n",
       "        2.92674493e+00,  2.95077631e+00,  2.97528660e+00,  3.00028933e+00,\n",
       "        3.02579858e+00,  3.05182897e+00,  3.07839571e+00,  3.10551464e+00,\n",
       "        3.13320222e+00,  3.16147560e+00,  3.19035264e+00,  3.21985196e+00,\n",
       "        3.24999295e+00,  3.28079586e+00,  3.31228179e+00,  3.34447279e+00,\n",
       "        3.37739186e+00,  3.41106306e+00,  3.44551152e+00,  3.48076352e+00,\n",
       "        3.51684658e+00,  3.55378948e+00,  3.59162239e+00,  3.63037691e+00,\n",
       "        3.67008619e+00,  3.71078500e+00,  3.75250985e+00,  3.79529909e+00,\n",
       "        3.83919301e+00,  3.88423399e+00,  3.93046665e+00,  3.97793796e+00,\n",
       "        4.02669741e+00,  4.07679721e+00,  4.12829242e+00,  4.18124121e+00,\n",
       "        4.23570505e+00,  4.29174896e+00,  4.34944174e+00,  4.40885629e+00,\n",
       "        4.47006989e+00,  4.53316456e+00,  4.59822739e+00,  4.66535097e+00,\n",
       "        4.73463384e+00,  4.80618093e+00,  4.88010413e+00,  4.95652285e+00,\n",
       "        5.03556469e+00,  5.11736610e+00,  5.20207325e+00,  5.28984280e+00,\n",
       "        5.38084297e+00,  5.47525453e+00,  5.57327205e+00,  5.67510524e+00,\n",
       "        5.78098040e+00,  5.89114217e+00,  6.00585538e+00,  6.12540715e+00,\n",
       "        6.25010936e+00,  6.38030131e+00,  6.51635284e+00,  6.65866783e+00,\n",
       "        6.80768819e+00,  6.96389848e+00,  7.12783118e+00,  7.30007271e+00,\n",
       "        7.48127050e+00,  7.67214111e+00,  7.87347970e+00,  8.08617114e+00,\n",
       "        8.31120299e+00,  8.54968086e+00,  8.80284660e+00,  9.07209993e+00,\n",
       "        9.35902438e+00,  9.66541846e+00,  9.99333342e+00,  1.03451193e+01,\n",
       "        1.07234813e+01,  1.11315496e+01,  1.15729663e+01,  1.20519943e+01,\n",
       "        1.25736555e+01,  1.31439078e+01,  1.37698737e+01,  1.44601395e+01,\n",
       "        1.52251515e+01,  1.60777489e+01,  1.70338902e+01,  1.81136620e+01,\n",
       "        1.93427058e+01,  2.07542814e+01,  2.23923225e+01,  2.43160930e+01,\n",
       "        2.66075118e+01,  2.93831224e+01,  3.28145484e+01,  3.71653923e+01,\n",
       "        4.28623866e+01,  5.06446816e+01,  6.19138060e+01,  7.96898635e+01,\n",
       "        1.11896493e+02,  1.88112348e+02,  5.93117405e+02, -5.11998133e+02,\n",
       "       -1.78523194e+02, -1.08000624e+02, -7.73617675e+01, -6.02307544e+01,\n",
       "       -4.92880913e+01, -4.16935136e+01, -3.61142509e+01, -3.18420452e+01,\n",
       "       -2.84657146e+01, -2.57301771e+01, -2.34687950e+01, -2.15680998e+01,\n",
       "       -1.99481529e+01, -1.85510128e+01, -1.73336552e+01, -1.62634635e+01,\n",
       "       -1.53152604e+01, -1.44693019e+01, -1.37098865e+01, -1.30243709e+01,\n",
       "       -1.24024602e+01, -1.18356865e+01, -1.13170214e+01, -1.08405819e+01,\n",
       "       -1.04014068e+01, -9.99528256e+00, -9.61860785e+00, -9.26828605e+00,\n",
       "       -8.94163994e+00, -8.63634299e+00, -8.35036376e+00, -8.08192056e+00,\n",
       "       -7.82944422e+00, -7.59154730e+00, -7.36699852e+00, -7.15470144e+00,\n",
       "       -6.95367643e+00, -6.76304555e+00, -6.58201970e+00, -6.40988763e+00,\n",
       "       -6.24600660e+00, -6.08979430e+00, -5.94072193e+00, -5.79830819e+00,\n",
       "       -5.66211403e+00, -5.53173819e+00, -5.40681313e+00, -5.28700161e+00,\n",
       "       -5.17199366e+00, -5.06150379e+00, -4.95526870e+00, -4.85304514e+00,\n",
       "       -4.75460802e+00, -4.65974878e+00, -4.56827387e+00, -4.48000342e+00,\n",
       "       -4.39477010e+00, -4.31241799e+00, -4.23280164e+00, -4.15578524e+00,\n",
       "       -4.08124179e+00, -4.00905241e+00, -3.93910571e+00, -3.87129721e+00,\n",
       "       -3.80552881e+00, -3.74170828e+00, -3.67974890e+00, -3.61956897e+00,\n",
       "       -3.56109150e+00, -3.50424389e+00, -3.44895757e+00, -3.39516776e+00,\n",
       "       -3.34281322e+00, -3.29183598e+00, -3.24218115e+00, -3.19379669e+00,\n",
       "       -3.14663327e+00, -3.10064406e+00, -3.05578459e+00, -3.01201258e+00,\n",
       "       -2.96928786e+00, -2.92757218e+00, -2.88682913e+00, -2.84702402e+00,\n",
       "       -2.80812378e+00, -2.77009689e+00, -2.73291324e+00, -2.69654410e+00,\n",
       "       -2.66096201e+00, -2.62614075e+00, -2.59205521e+00, -2.55868139e+00,\n",
       "       -2.52599631e+00, -2.49397796e+00, -2.46260526e+00, -2.43185799e+00,\n",
       "       -2.40171677e+00, -2.37216300e+00, -2.34317884e+00, -2.31474714e+00,\n",
       "       -2.28685145e+00, -2.25947593e+00, -2.23260539e+00, -2.20622519e+00,\n",
       "       -2.18032126e+00, -2.15488006e+00, -2.12988854e+00, -2.10533414e+00,\n",
       "       -2.08120477e+00, -2.05748876e+00, -2.03417486e+00, -2.01125222e+00,\n",
       "       -1.98871040e+00, -1.96653927e+00, -1.94472911e+00, -1.92327049e+00,\n",
       "       -1.90215433e+00, -1.88137182e+00, -1.86091449e+00, -1.84077413e+00,\n",
       "       -1.82094278e+00, -1.80141277e+00, -1.78217667e+00, -1.76322729e+00,\n",
       "       -1.74455765e+00, -1.72616102e+00, -1.70803086e+00, -1.69016085e+00,\n",
       "       -1.67254484e+00, -1.65517690e+00, -1.63805125e+00, -1.62116231e+00,\n",
       "       -1.60450465e+00, -1.58807301e+00, -1.57186228e+00, -1.55586751e+00,\n",
       "       -1.54008388e+00, -1.52450671e+00, -1.50913147e+00, -1.49395375e+00,\n",
       "       -1.47896925e+00, -1.46417381e+00, -1.44956339e+00, -1.43513403e+00,\n",
       "       -1.42088192e+00, -1.40680333e+00, -1.39289464e+00, -1.37915230e+00,\n",
       "       -1.36557291e+00, -1.35215310e+00, -1.33888964e+00, -1.32577935e+00,\n",
       "       -1.31281914e+00, -1.30000602e+00, -1.28733705e+00, -1.27480939e+00,\n",
       "       -1.26242024e+00, -1.25016691e+00, -1.23804674e+00, -1.22605716e+00,\n",
       "       -1.21419566e+00, -1.20245979e+00, -1.19084716e+00, -1.17935543e+00,\n",
       "       -1.16798233e+00, -1.15672564e+00, -1.14558319e+00, -1.13455285e+00,\n",
       "       -1.12363258e+00, -1.11282034e+00, -1.10211417e+00, -1.09151214e+00,\n",
       "       -1.08101238e+00, -1.07061303e+00, -1.06031232e+00, -1.05010848e+00,\n",
       "       -1.03999980e+00, -1.02998460e+00, -1.02006125e+00, -1.01022814e+00,\n",
       "       -1.00048371e+00, -9.90826417e-01, -9.81254773e-01, -9.71767309e-01,\n",
       "       -9.62362591e-01, -9.53039216e-01, -9.43795812e-01, -9.34631035e-01,\n",
       "       -9.25543570e-01, -9.16532131e-01, -9.07595458e-01, -8.98732318e-01,\n",
       "       -8.89941505e-01, -8.81221836e-01, -8.72572153e-01, -8.63991324e-01,\n",
       "       -8.55478238e-01, -8.47031807e-01, -8.38650967e-01, -8.30334675e-01,\n",
       "       -8.22081908e-01, -8.13891665e-01, -8.05762964e-01, -7.97694844e-01,\n",
       "       -7.89686362e-01, -7.81736596e-01, -7.73844640e-01, -7.66009607e-01,\n",
       "       -7.58230628e-01, -7.50506850e-01, -7.42837438e-01, -7.35221572e-01,\n",
       "       -7.27658450e-01, -7.20147284e-01, -7.12687303e-01, -7.05277750e-01,\n",
       "       -6.97917883e-01, -6.90606973e-01, -6.83344308e-01, -6.76129189e-01,\n",
       "       -6.68960928e-01, -6.61838853e-01, -6.54762306e-01, -6.47730638e-01,\n",
       "       -6.40743216e-01, -6.33799417e-01, -6.26898632e-01, -6.20040262e-01,\n",
       "       -6.13223722e-01, -6.06448436e-01, -5.99713840e-01, -5.93019381e-01,\n",
       "       -5.86364518e-01, -5.79748720e-01, -5.73171465e-01, -5.66632243e-01,\n",
       "       -5.60130554e-01, -5.53665907e-01, -5.47237821e-01, -5.40845827e-01,\n",
       "       -5.34489461e-01, -5.28168272e-01, -5.21881818e-01, -5.15629664e-01,\n",
       "       -5.09411386e-01, -5.03226567e-01, -4.97074802e-01, -4.90955690e-01,\n",
       "       -4.84868843e-01, -4.78813878e-01, -4.72790422e-01, -4.66798110e-01,\n",
       "       -4.60836586e-01, -4.54905500e-01, -4.49004512e-01, -4.43133287e-01,\n",
       "       -4.37291502e-01, -4.31478839e-01, -4.25694987e-01, -4.19939644e-01,\n",
       "       -4.14212517e-01, -4.08513317e-01, -4.02841764e-01, -3.97197587e-01,\n",
       "       -3.91580520e-01, -3.85990305e-01, -3.80426692e-01, -3.74889437e-01,\n",
       "       -3.69378305e-01, -3.63893065e-01, -3.58433497e-01, -3.52999385e-01,\n",
       "       -3.47590521e-01, -3.42206705e-01, -3.36847743e-01, -3.31513448e-01,\n",
       "       -3.26203640e-01, -3.20918147e-01, -3.15656804e-01, -3.10419450e-01,\n",
       "       -3.05205935e-01, -3.00016114e-01, -2.94849848e-01, -2.89707008e-01,\n",
       "       -2.84587470e-01, -2.79491116e-01, -2.74417837e-01, -2.69367531e-01,\n",
       "       -2.64340102e-01, -2.59335461e-01, -2.54353528e-01, -2.49394228e-01,\n",
       "       -2.44457494e-01, -2.39543267e-01, -2.34651494e-01, -2.29782130e-01,\n",
       "       -2.24935137e-01, -2.20110484e-01, -2.15308150e-01, -2.10528117e-01,\n",
       "       -2.05770378e-01, -2.01034933e-01, -1.96321787e-01, -1.91630957e-01,\n",
       "       -1.86962464e-01, -1.82316339e-01, -1.77692618e-01, -1.73091349e-01,\n",
       "       -1.68512584e-01, -1.63956385e-01, -1.59422821e-01, -1.54911971e-01,\n",
       "       -1.50423919e-01, -1.45958760e-01, -1.41516596e-01, -1.37097537e-01,\n",
       "       -1.32701702e-01, -1.28329217e-01, -1.23980219e-01, -1.19654851e-01,\n",
       "       -1.15353266e-01, -1.11075624e-01, -1.06822096e-01, -1.02592860e-01,\n",
       "       -9.83881023e-02, -9.42080194e-02, -9.00528156e-02, -8.59227043e-02,\n",
       "       -8.18179077e-02, -7.77386568e-02, -7.36851915e-02, -6.96577605e-02,\n",
       "       -6.56566215e-02, -6.16820411e-02, -5.77342946e-02, -5.38136664e-02,\n",
       "       -4.99204496e-02, -4.60549460e-02, -4.22174665e-02, -3.84083304e-02,\n",
       "       -3.46278660e-02, -3.08764098e-02, -2.71543072e-02, -2.34619119e-02,\n",
       "       -1.97995860e-02, -1.61676996e-02, -1.25666313e-02, -8.99676720e-03,\n",
       "       -5.45850160e-03, -1.95223622e-03,  1.52161973e-03,  4.96264980e-03,\n",
       "        8.37043053e-03,  1.17445317e-02,  1.50845166e-02,  1.83899422e-02,\n",
       "        2.16603598e-02,  2.48953148e-02,  2.80943475e-02,  3.12569934e-02,\n",
       "        3.43827835e-02,  3.74712447e-02,  4.05219004e-02,  4.35342708e-02,\n",
       "        4.65078736e-02,  4.94422243e-02,  5.23368371e-02,  5.51912251e-02,\n",
       "        5.80049013e-02,  6.07773791e-02,  6.35081728e-02,  6.61967986e-02,\n",
       "        6.88427755e-02,  7.14456256e-02,  7.40048753e-02,  7.65200561e-02,\n",
       "        7.89907055e-02,  8.14163680e-02,  8.37965957e-02,  8.61309501e-02,\n",
       "        8.84190023e-02,  9.06603345e-02,  9.28545412e-02,  9.50012303e-02,\n",
       "        9.71000240e-02,  9.91505605e-02,  1.01152495e-01,  1.03105501e-01,\n",
       "        1.05009271e-01,  1.06863519e-01,  1.08667983e-01,  1.10422423e-01,\n",
       "        1.12126623e-01,  1.13780397e-01,  1.15383586e-01,  1.16936058e-01,\n",
       "        1.18437716e-01,  1.19888495e-01,  1.21288362e-01,  1.22637322e-01,\n",
       "        1.23935418e-01,  1.25182730e-01,  1.26379379e-01,  1.27525529e-01,\n",
       "        1.28621388e-01,  1.29667206e-01,  1.30663284e-01,  1.31609968e-01,\n",
       "        1.32507655e-01,  1.33356791e-01,  1.34157877e-01,  1.34911465e-01,\n",
       "        1.35618164e-01,  1.36278636e-01,  1.36893604e-01,  1.37463846e-01,\n",
       "        1.37990201e-01,  1.38473566e-01,  1.38914901e-01,  1.39315227e-01,\n",
       "        1.39675627e-01,  1.39997245e-01,  1.40281291e-01,  1.40529036e-01,\n",
       "        1.40741816e-01,  1.40921031e-01,  1.41068142e-01,  1.41184675e-01,\n",
       "        1.41272220e-01,  1.41332427e-01,  1.41367010e-01,  1.41377744e-01,\n",
       "        1.41366462e-01,  1.41335058e-01,  1.41285485e-01,  1.41219750e-01,\n",
       "        1.41139918e-01,  1.41048105e-01,  1.40946482e-01,  1.40837267e-01,\n",
       "        1.40722729e-01,  1.40605181e-01,  1.40486981e-01,  1.40370527e-01,\n",
       "        1.40258258e-01,  1.40152648e-01,  1.40056207e-01,  1.39971473e-01,\n",
       "        1.39901016e-01,  1.39847428e-01,  1.39813327e-01,  1.39801350e-01,\n",
       "        1.39814150e-01,  1.39854393e-01,  1.39924759e-01,  1.40027933e-01,\n",
       "        1.40166606e-01,  1.40343472e-01,  1.40561222e-01,  1.40822544e-01,\n",
       "        1.41130120e-01,  1.41486621e-01,  1.41894709e-01,  1.42357027e-01,\n",
       "        1.42876203e-01,  1.43454847e-01,  1.44095544e-01,  1.44800856e-01,\n",
       "        1.45573321e-01,  1.46415447e-01,  1.47329712e-01,  1.48318565e-01,\n",
       "        1.49384420e-01,  1.50529659e-01,  1.51756629e-01,  1.53067640e-01,\n",
       "        1.54464968e-01,  1.55950850e-01,  1.57527487e-01,  1.59197041e-01,\n",
       "        1.60961640e-01,  1.62823373e-01,  1.64784292e-01,  1.66846415e-01,\n",
       "        1.69011723e-01,  1.71282165e-01,  1.73659657e-01,  1.76146084e-01,\n",
       "        1.78743301e-01,  1.81453135e-01,  1.84277389e-01,  1.87217840e-01,\n",
       "        1.90276246e-01,  1.93454347e-01,  1.96753866e-01,  2.00176514e-01,\n",
       "        2.03723991e-01,  2.07397993e-01,  2.11200212e-01,  2.15132341e-01,\n",
       "        2.19196077e-01,  2.23393129e-01,  2.27725214e-01,  2.32194071e-01,\n",
       "        2.36801458e-01,  2.41549163e-01,  2.46439002e-01,  2.51472830e-01,\n",
       "        2.56652546e-01,  2.61980095e-01,  2.67457476e-01,  2.73086750e-01,\n",
       "        2.78870043e-01,  2.84809554e-01,  2.90907562e-01,  2.97166436e-01,\n",
       "        3.03588637e-01,  3.10176729e-01,  3.16933389e-01,  3.23861413e-01,\n",
       "        3.30963725e-01,  3.38243390e-01,  3.45703618e-01,  3.53347783e-01,\n",
       "        3.61179426e-01,  3.69202273e-01,  3.77420243e-01,  3.85837466e-01,\n",
       "        3.94458292e-01,  4.03287311e-01,  4.12329366e-01,  4.21589571e-01,\n",
       "        4.31073331e-01,  4.40786357e-01,  4.50734692e-01,  4.60924731e-01,\n",
       "        4.71363246e-01,  4.82057412e-01,  4.93014834e-01,  5.04243579e-01,\n",
       "        5.15752207e-01,  5.27549810e-01,  5.39646046e-01,  5.52051183e-01,\n",
       "        5.64776146e-01,  5.77832563e-01,  5.91232821e-01,  6.04990127e-01,\n",
       "        6.19118569e-01,  6.33633188e-01,  6.48550058e-01,  6.63886367e-01,\n",
       "        6.79660516e-01,  6.95892219e-01,  7.12602620e-01,  7.29814419e-01,\n",
       "        7.47552014e-01,  7.65841656e-01,  7.84711626e-01,  8.04192426e-01,\n",
       "        8.24317002e-01,  8.45120984e-01,  8.66642960e-01,  8.88924789e-01,\n",
       "        9.12011943e-01,  9.35953909e-01,  9.60804629e-01,  9.86623013e-01,\n",
       "        1.01347352e+00,  1.04142682e+00,  1.07056057e+00,  1.10096025e+00,\n",
       "        1.13272025e+00,  1.16594498e+00,  1.20075027e+00,  1.23726500e+00,\n",
       "        1.27563293e+00,  1.31601494e+00,  1.35859168e+00,  1.40356668e+00,\n",
       "        1.45117010e+00,  1.50166323e+00,  1.55534396e+00,  1.61255343e+00,\n",
       "        1.67368419e+00,  1.73919027e+00,  1.80959974e+00,  1.88553046e+00,\n",
       "        1.96771007e+00,  2.05700150e+00,  2.15443609e+00,  2.26125674e+00,\n",
       "        2.37897525e+00,  2.50944928e+00,  2.65498738e+00,  2.81849477e+00,\n",
       "        3.00367971e+00,  3.21535175e+00,  3.45986372e+00,  3.74578523e+00,\n",
       "        4.08496252e+00,  4.49425095e+00,  4.99847665e+00,  5.63578155e+00,\n",
       "        6.46793605e+00,  7.60199269e+00,  9.24109754e+00,  1.18235192e+01,\n",
       "        1.65013456e+01,  2.75920289e+01,  8.72974277e+01, -7.24050676e+01,\n",
       "       -2.52445553e+01, -1.51489302e+01, -1.07437506e+01, -8.27201540e+00,\n",
       "       -6.68731337e+00, -5.58281747e+00, -4.76738820e+00, -4.13935170e+00,\n",
       "       -3.63962773e+00, -3.23152902e+00, -2.89105913e+00, -2.60185019e+00,\n",
       "       -2.35234228e+00, -2.13412522e+00, -1.94091894e+00, -1.76792166e+00,\n",
       "       -1.61137828e+00, -1.46828476e+00, -1.33617790e+00, -1.21297859e+00,\n",
       "       -1.09686639e+00, -9.86167353e-01, -8.79235105e-01, -7.74294534e-01,\n",
       "       -6.69182523e-01, -5.60809095e-01, -4.43717582e-01, -3.04426522e-01])"
      ]
     },
     "execution_count": 19,
     "metadata": {},
     "output_type": "execute_result"
    }
   ],
   "source": [
    "tanDl(x,0,10)"
   ]
  },
  {
   "cell_type": "code",
   "execution_count": 22,
   "metadata": {},
   "outputs": [
    {
     "data": {
      "text/plain": [
       "array([0.9999])"
      ]
     },
     "execution_count": 22,
     "metadata": {},
     "output_type": "execute_result"
    }
   ],
   "source": [
    "x"
   ]
  },
  {
   "cell_type": "code",
   "execution_count": null,
   "metadata": {},
   "outputs": [],
   "source": []
  }
 ],
 "metadata": {
  "kernelspec": {
   "display_name": "Python 3",
   "language": "python",
   "name": "python3"
  },
  "language_info": {
   "codemirror_mode": {
    "name": "ipython",
    "version": 3
   },
   "file_extension": ".py",
   "mimetype": "text/x-python",
   "name": "python",
   "nbconvert_exporter": "python",
   "pygments_lexer": "ipython3",
   "version": "3.7.6"
  }
 },
 "nbformat": 4,
 "nbformat_minor": 4
}
