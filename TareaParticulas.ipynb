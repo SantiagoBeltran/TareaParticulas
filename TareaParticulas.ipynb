{
 "cells": [
  {
   "cell_type": "code",
   "execution_count": null,
   "metadata": {},
   "outputs": [],
   "source": [
    "%pylab inline"
   ]
  },
  {
   "cell_type": "code",
   "execution_count": 2,
   "metadata": {},
   "outputs": [],
   "source": [
    "import scipy.special as spe\n",
    "from scipy.optimize import fsolve"
   ]
  },
  {
   "cell_type": "code",
   "execution_count": 3,
   "metadata": {},
   "outputs": [],
   "source": [
    "def continuidad(x, l, rho):\n",
    "    y=rho*np.sqrt(-x+1)\n",
    "    z=rho*np.sqrt(x)\n",
    "    g=np.sqrt(-x+1)*spe.spherical_jn(l,y,derivative=True)/spe.spherical_jn(l,y)\n",
    "    h=np.sqrt(x)*spe.spherical_kn(l,z,derivative=True)/spe.spherical_kn(l,z)\n",
    "    f=g-h\n",
    "    return f"
   ]
  },
  {
   "cell_type": "code",
   "execution_count": 4,
   "metadata": {},
   "outputs": [
    {
     "name": "stderr",
     "output_type": "stream",
     "text": [
      "/srv/conda/envs/notebook/lib/python3.7/site-packages/ipykernel_launcher.py:5: RuntimeWarning: invalid value encountered in multiply\n",
      "  \"\"\"\n"
     ]
    },
    {
     "data": {
      "text/plain": [
       "[<matplotlib.lines.Line2D at 0x7f0c3bcf5d90>]"
      ]
     },
     "execution_count": 4,
     "metadata": {},
     "output_type": "execute_result"
    },
    {
     "data": {
      "image/png": "[encoded data removed]",
      "text/plain": [
       "<Figure size 432x288 with 1 Axes>"
      ]
     },
     "metadata": {
      "needs_background": "light"
     },
     "output_type": "display_data"
    }
   ],
   "source": [
    "plt.figure()\n",
    "x=np.arange(0,1,0.01)\n",
    "plt.plot(x, continuidad(x, 0, np.sqrt(30)))"
   ]
  },
  {
   "cell_type": "code",
   "execution_count": 5,
   "metadata": {},
   "outputs": [
    {
     "name": "stderr",
     "output_type": "stream",
     "text": [
      "/srv/conda/envs/notebook/lib/python3.7/site-packages/ipykernel_launcher.py:5: RuntimeWarning: invalid value encountered in double_scalars\n",
      "  \"\"\"\n"
     ]
    },
    {
     "data": {
      "text/plain": [
       "array([0.136, 0.768])"
      ]
     },
     "execution_count": 5,
     "metadata": {},
     "output_type": "execute_result"
    }
   ],
   "source": [
    "def hallarCeros(f,l, rho,toi=1E-4):\n",
    "    g=np.arange(0,1, 0.000001)\n",
    "    ceros=[]\n",
    "    for i in range(len(g)):\n",
    "        if np.abs(f(g[i],l,rho))<toi:\n",
    "            ceros.append(np.round(g[i],3))       \n",
    "    zeros=np.unique(ceros) \n",
    "    return zeros\n",
    "hallarCeros(continuidad, 0, np.sqrt(30))"
   ]
  },
  {
   "cell_type": "code",
   "execution_count": null,
   "metadata": {},
   "outputs": [
    {
     "name": "stderr",
     "output_type": "stream",
     "text": [
      "/srv/conda/envs/notebook/lib/python3.7/site-packages/ipykernel_launcher.py:5: RuntimeWarning: invalid value encountered in double_scalars\n",
      "  \"\"\"\n"
     ]
    },
    {
     "name": "stdout",
     "output_type": "stream",
     "text": [
      "[0. 1. 2. 3. 4. 5.] [0.3   0.818 0.006 0.63  0.399 0.131]\n",
      "[0. 1. 2. 3. 4. 5.] [0.414 0.849 0.85  0.14  0.694 0.501 0.273 0.274 0.018]\n",
      "[0. 1. 2. 3. 4. 5.] [0.497 0.872 0.254 0.739 0.003 0.573 0.376 0.153]\n",
      "[0. 1. 2. 3. 4. 5.] [0.062 0.559 0.888 0.342 0.772 0.107 0.626 0.454 0.256 0.036]\n"
     ]
    }
   ],
   "source": [
    "#plt.figure()\n",
    "rho=np.sqrt(np.arange(40,90,10))\n",
    "l=np.arange(0,6,1)\n",
    "energy=np.zeros((len(rho), len(l)))\n",
    "for i in range(len(rho)):\n",
    "    y=hallarCeros(continuidad, l[0], rho[i])\n",
    "    x=np.ones(len(y))*l[0]\n",
    "    for j in range(1,len(l)):\n",
    "        y=np.concatenate((y,hallarCeros(continuidad, l[j], rho[i])))\n",
    "        x=np.concatenate((x,np.ones(len(y))*l[j]))\n",
    "    print(np.unique(x),y)\n",
    "    #plt.scatter(x,y, marker=\"*\", label=r\"$V_0=${}\".format(round(rho[i]**2, 0)))\n",
    "#plt.legend()        "
   ]
  },
  {
   "cell_type": "code",
   "execution_count": 31,
   "metadata": {
    "collapsed": true,
    "jupyter": {
     "outputs_hidden": true
    }
   },
   "outputs": [
    {
     "data": {
      "text/plain": [
       "\u001b[0;31mDocstring:\u001b[0m\n",
       "concatenate((a1, a2, ...), axis=0, out=None)\n",
       "\n",
       "Join a sequence of arrays along an existing axis.\n",
       "\n",
       "Parameters\n",
       "----------\n",
       "a1, a2, ... : sequence of array_like\n",
       "    The arrays must have the same shape, except in the dimension\n",
       "    corresponding to `axis` (the first, by default).\n",
       "axis : int, optional\n",
       "    The axis along which the arrays will be joined.  If axis is None,\n",
       "    arrays are flattened before use.  Default is 0.\n",
       "out : ndarray, optional\n",
       "    If provided, the destination to place the result. The shape must be\n",
       "    correct, matching that of what concatenate would have returned if no\n",
       "    out argument were specified.\n",
       "\n",
       "Returns\n",
       "-------\n",
       "res : ndarray\n",
       "    The concatenated array.\n",
       "\n",
       "See Also\n",
       "--------\n",
       "ma.concatenate : Concatenate function that preserves input masks.\n",
       "array_split : Split an array into multiple sub-arrays of equal or\n",
       "              near-equal size.\n",
       "split : Split array into a list of multiple sub-arrays of equal size.\n",
       "hsplit : Split array into multiple sub-arrays horizontally (column wise)\n",
       "vsplit : Split array into multiple sub-arrays vertically (row wise)\n",
       "dsplit : Split array into multiple sub-arrays along the 3rd axis (depth).\n",
       "stack : Stack a sequence of arrays along a new axis.\n",
       "hstack : Stack arrays in sequence horizontally (column wise)\n",
       "vstack : Stack arrays in sequence vertically (row wise)\n",
       "dstack : Stack arrays in sequence depth wise (along third dimension)\n",
       "block : Assemble arrays from blocks.\n",
       "\n",
       "Notes\n",
       "-----\n",
       "When one or more of the arrays to be concatenated is a MaskedArray,\n",
       "this function will return a MaskedArray object instead of an ndarray,\n",
       "but the input masks are *not* preserved. In cases where a MaskedArray\n",
       "is expected as input, use the ma.concatenate function from the masked\n",
       "array module instead.\n",
       "\n",
       "Examples\n",
       "--------\n",
       ">>> a = np.array([[1, 2], [3, 4]])\n",
       ">>> b = np.array([[5, 6]])\n",
       ">>> np.concatenate((a, b), axis=0)\n",
       "array([[1, 2],\n",
       "       [3, 4],\n",
       "       [5, 6]])\n",
       ">>> np.concatenate((a, b.T), axis=1)\n",
       "array([[1, 2, 5],\n",
       "       [3, 4, 6]])\n",
       ">>> np.concatenate((a, b), axis=None)\n",
       "array([1, 2, 3, 4, 5, 6])\n",
       "\n",
       "This function will not preserve masking of MaskedArray inputs.\n",
       "\n",
       ">>> a = np.ma.arange(3)\n",
       ">>> a[1] = np.ma.masked\n",
       ">>> b = np.arange(2, 5)\n",
       ">>> a\n",
       "masked_array(data=[0, --, 2],\n",
       "             mask=[False,  True, False],\n",
       "       fill_value=999999)\n",
       ">>> b\n",
       "array([2, 3, 4])\n",
       ">>> np.concatenate([a, b])\n",
       "masked_array(data=[0, 1, 2, 2, 3, 4],\n",
       "             mask=False,\n",
       "       fill_value=999999)\n",
       ">>> np.ma.concatenate([a, b])\n",
       "masked_array(data=[0, --, 2, 2, 3, 4],\n",
       "             mask=[False,  True, False, False, False, False],\n",
       "       fill_value=999999)\n",
       "\u001b[0;31mType:\u001b[0m      function\n"
      ]
     },
     "metadata": {},
     "output_type": "display_data"
    }
   ],
   "source": [
    "np.concatenate?"
   ]
  },
  {
   "cell_type": "code",
   "execution_count": 5,
   "metadata": {},
   "outputs": [],
   "source": [
    "def bisection(a,b,f,l, rho,toi=1E-6):\n",
    "    xl=a\n",
    "    xr=b\n",
    "    while(np.abs(xl-xr)>=toi):\n",
    "        c=(xl+xr)/2.0\n",
    "        prod=f(xl, l,rho)*f(c, l, rho)\n",
    "        if prod>toi:\n",
    "            xl=c\n",
    "        else:\n",
    "            if prod<toi:\n",
    "                xr=c\n",
    "    return c            "
   ]
  },
  {
   "cell_type": "code",
   "execution_count": 6,
   "metadata": {},
   "outputs": [
    {
     "data": {
      "text/plain": [
       "-0.10804518985748292"
      ]
     },
     "execution_count": 6,
     "metadata": {},
     "output_type": "execute_result"
    }
   ],
   "source": [
    "bisection(-0.999,0, continuidad, 6, 10)"
   ]
  },
  {
   "cell_type": "code",
   "execution_count": 40,
   "metadata": {},
   "outputs": [],
   "source": [
    "rho=np.sqrt(np.arange(10,100,10))\n",
    "l=np.arange(0,11,1)\n",
    "energias=np.zeros((len(rho), len(l)))"
   ]
  },
  {
   "cell_type": "code",
   "execution_count": 41,
   "metadata": {},
   "outputs": [
    {
     "data": {
      "text/plain": [
       "array([[-4.62640904e-01, -5.12594819e-03, -9.53664780e-07,\n",
       "        -9.53664780e-07, -9.53664780e-07, -9.53664780e-07,\n",
       "        -9.53664780e-07, -9.53664780e-07, -9.53664780e-07,\n",
       "        -9.53664780e-07, -9.53664780e-07],\n",
       "       [-9.53664780e-07, -3.58393900e-01, -9.53664780e-07,\n",
       "        -9.53664780e-07, -9.53664780e-07, -9.53664780e-07,\n",
       "        -9.53664780e-07, -9.53664780e-07, -9.53664780e-07,\n",
       "        -9.53664780e-07, -9.53664780e-07],\n",
       "       [-1.36441774e-01, -5.31732010e-01, -2.44564472e-01,\n",
       "        -9.53664780e-07, -9.53664780e-07, -9.53664780e-07,\n",
       "        -9.53664780e-07, -9.53664780e-07, -9.53664780e-07,\n",
       "        -9.53664780e-07, -9.53664780e-07],\n",
       "       [-3.00044874e-01, -6.30363836e-01, -3.98920838e-01,\n",
       "        -1.30735044e-01, -9.53664780e-07, -9.53664780e-07,\n",
       "        -9.53664780e-07, -9.53664780e-07, -9.53664780e-07,\n",
       "        -9.53664780e-07, -9.53664780e-07],\n",
       "       [-4.14415984e-01, -1.40370873e-01, -5.00787495e-01,\n",
       "        -2.73670321e-01, -1.85382897e-02, -9.53664780e-07,\n",
       "        -9.53664780e-07, -9.53664780e-07, -9.53664780e-07,\n",
       "        -9.53664780e-07, -9.53664780e-07],\n",
       "       [-9.53664780e-07, -2.53658619e-01, -5.72716708e-01,\n",
       "        -3.76460125e-01, -1.53073687e-01, -9.53664780e-07,\n",
       "        -9.53664780e-07, -9.53664780e-07, -9.53664780e-07,\n",
       "        -9.53664780e-07, -9.53664780e-07],\n",
       "       [-5.58953418e-01, -3.42219745e-01, -1.07419847e-01,\n",
       "        -9.53664780e-07, -2.55977932e-01, -3.61314975e-02,\n",
       "        -9.53664780e-07, -9.53664780e-07, -9.53664780e-07,\n",
       "        -9.53664780e-07, -9.53664780e-07],\n",
       "       [-1.49259028e-01, -9.53664780e-07, -1.97506837e-01,\n",
       "        -5.13604750e-01, -3.36650343e-01, -1.38547466e-01,\n",
       "        -9.53664780e-07, -9.53664780e-07, -9.53664780e-07,\n",
       "        -9.53664780e-07, -9.53664780e-07],\n",
       "       [-2.25582728e-01, -6.19405274e-03, -2.72335190e-01,\n",
       "        -5.61516869e-01, -9.53664780e-07, -2.21523931e-01,\n",
       "        -2.34363120e-02, -9.53664780e-07, -9.53664780e-07,\n",
       "        -9.53664780e-07, -9.53664780e-07]])"
      ]
     },
     "execution_count": 41,
     "metadata": {},
     "output_type": "execute_result"
    }
   ],
   "source": [
    "for i in range(len(rho)):\n",
    "    for j in range(len(l)):\n",
    "        energias[i][j]=bisection(-0.99999,0, continuidad, l[j], rho[i])\n",
    "energias"
   ]
  },
  {
   "cell_type": "code",
   "execution_count": 42,
   "metadata": {},
   "outputs": [
    {
     "data": {
      "text/plain": [
       "array([-9.5366478e-07, -3.5839390e-01, -9.5366478e-07, -9.5366478e-07,\n",
       "       -9.5366478e-07, -9.5366478e-07, -9.5366478e-07, -9.5366478e-07,\n",
       "       -9.5366478e-07, -9.5366478e-07, -9.5366478e-07])"
      ]
     },
     "execution_count": 42,
     "metadata": {},
     "output_type": "execute_result"
    }
   ],
   "source": [
    "energias[1]"
   ]
  },
  {
   "cell_type": "code",
   "execution_count": 43,
   "metadata": {},
   "outputs": [
    {
     "data": {
      "text/plain": [
       "[<matplotlib.lines.Line2D at 0x7fcc1f6bfb10>]"
      ]
     },
     "execution_count": 43,
     "metadata": {},
     "output_type": "execute_result"
    },
    {
     "data": {
      "image/png": "[encoded data removed]",
      "text/plain": [
       "<Figure size 432x288 with 1 Axes>"
      ]
     },
     "metadata": {
      "needs_background": "light"
     },
     "output_type": "display_data"
    }
   ],
   "source": [
    "plt.plot(l, energias[1])"
   ]
  },
  {
   "cell_type": "code",
   "execution_count": 44,
   "metadata": {},
   "outputs": [
    {
     "data": {
      "text/plain": [
       "array([-5.12594819e-03, -3.58393900e-01, -5.31732010e-01, -6.30363836e-01,\n",
       "       -1.40370873e-01, -2.53658619e-01, -3.42219745e-01, -9.53664780e-07,\n",
       "       -6.19405274e-03])"
      ]
     },
     "execution_count": 44,
     "metadata": {},
     "output_type": "execute_result"
    }
   ],
   "source": [
    "energias[:,1]"
   ]
  },
  {
   "cell_type": "code",
   "execution_count": 45,
   "metadata": {},
   "outputs": [
    {
     "data": {
      "text/plain": [
       "[<matplotlib.lines.Line2D at 0x7fcc1f6a9990>]"
      ]
     },
     "execution_count": 45,
     "metadata": {},
     "output_type": "execute_result"
    },
    {
     "data": {
      "image/png": "[encoded data removed]",
      "text/plain": [
       "<Figure size 432x288 with 1 Axes>"
      ]
     },
     "metadata": {
      "needs_background": "light"
     },
     "output_type": "display_data"
    }
   ],
   "source": [
    "plt.plot(rho, energias[:,0])"
   ]
  },
  {
   "cell_type": "code",
   "execution_count": 46,
   "metadata": {},
   "outputs": [],
   "source": [
    "def aproximada(x, l, rho):\n",
    "    y=np.tan(rho*np.sqrt(1+x)-np.pi*l/2.0)+np.sqrt(1+x/(-x))\n",
    "    return y"
   ]
  },
  {
   "cell_type": "code",
   "execution_count": 47,
   "metadata": {},
   "outputs": [
    {
     "data": {
      "text/plain": [
       "[<matplotlib.lines.Line2D at 0x7fcc1f61a210>]"
      ]
     },
     "execution_count": 47,
     "metadata": {},
     "output_type": "execute_result"
    },
    {
     "data": {
      "image/png": "[encoded data removed]",
      "text/plain": [
       "<Figure size 432x288 with 1 Axes>"
      ]
     },
     "metadata": {
      "needs_background": "light"
     },
     "output_type": "display_data"
    }
   ],
   "source": [
    "plt.figure()\n",
    "plt.plot(x, aproximada(x,6,40))"
   ]
  },
  {
   "cell_type": "code",
   "execution_count": 48,
   "metadata": {},
   "outputs": [],
   "source": [
    "def tanDl(x, l, rho):\n",
    "    y=rho*np.sqrt(-x+1)\n",
    "    z=rho*np.sqrt(x)\n",
    "    g=y*spe.spherical_jn(l,z)*spe.spherical_jn(l,y, derivative=True)-z*spe.spherical_jn(l,z, derivative=True)*spe.spherical_jn(l,y)\n",
    "    h=z*spe.spherical_yn(l,z, derivative=True)*spe.spherical_jn(l,y)-y*spe.spherical_jn(l,y,derivative=True)*spe.spherical_yn(l,z)\n",
    "    f=-g/h\n",
    "    return f\n",
    "    "
   ]
  },
  {
   "cell_type": "code",
   "execution_count": 58,
   "metadata": {},
   "outputs": [],
   "source": [
    "def sigma(x, rho):\n",
    "    s=0\n",
    "    for i in range(10):\n",
    "        d=tanDl(x,i,rho)\n",
    "        s+=4*np.pi*(2*i+1)*d**2/((rho**2*x)*(1+d**2))\n",
    "    return s"
   ]
  },
  {
   "cell_type": "code",
   "execution_count": 59,
   "metadata": {},
   "outputs": [
    {
     "name": "stderr",
     "output_type": "stream",
     "text": [
      "/srv/conda/envs/notebook/lib/python3.7/site-packages/ipykernel_launcher.py:5: RuntimeWarning: invalid value encountered in multiply\n",
      "  \"\"\"\n"
     ]
    },
    {
     "data": {
      "text/plain": [
       "[<matplotlib.lines.Line2D at 0x7fcc1f3dc7d0>]"
      ]
     },
     "execution_count": 59,
     "metadata": {},
     "output_type": "execute_result"
    },
    {
     "data": {
      "image/png": "[encoded data removed]",
      "text/plain": [
       "<Figure size 432x288 with 1 Axes>"
      ]
     },
     "metadata": {
      "needs_background": "light"
     },
     "output_type": "display_data"
    }
   ],
   "source": [
    "x=np.arange(0.0,1,0.001)\n",
    "plt.figure()\n",
    "plt.plot(x, sigma(x,np.sqrt(40)))"
   ]
  },
  {
   "cell_type": "code",
   "execution_count": 18,
   "metadata": {},
   "outputs": [
    {
     "name": "stderr",
     "output_type": "stream",
     "text": [
      "/srv/conda/envs/notebook/lib/python3.7/site-packages/ipykernel_launcher.py:5: RuntimeWarning: invalid value encountered in multiply\n",
      "  \"\"\"\n"
     ]
    },
    {
     "data": {
      "text/plain": [
       "array([            nan, -1.33617790e+00, -3.63962773e+00,  8.72974277e+01,\n",
       "        4.08496252e+00,  2.15443609e+00,  1.45117010e+00,  1.07056057e+00,\n",
       "        8.24317002e-01,  6.48550058e-01,  5.15752207e-01,  4.12329366e-01,\n",
       "        3.30963725e-01,  2.67457476e-01,  2.19196077e-01,  1.84277389e-01,\n",
       "        1.60961640e-01,  1.47329712e-01,  1.41130120e-01,  1.39813327e-01,\n",
       "        1.40722729e-01,  1.41367010e-01,  1.39675627e-01,  1.34157877e-01,\n",
       "        1.23935418e-01,  1.08667983e-01,  8.84190023e-02,  6.35081728e-02,\n",
       "        3.43827835e-02,  1.52161973e-03, -3.46278660e-02, -7.36851915e-02,\n",
       "       -1.15353266e-01, -1.59422821e-01, -2.05770378e-01, -2.54353528e-01,\n",
       "       -3.05205935e-01, -3.58433497e-01, -4.14212517e-01, -4.72790422e-01,\n",
       "       -5.34489461e-01, -5.99713840e-01, -6.68960928e-01, -7.42837438e-01,\n",
       "       -8.22081908e-01, -9.07595458e-01, -1.00048371e+00, -1.10211417e+00,\n",
       "       -1.21419566e+00, -1.33888964e+00, -1.47896925e+00, -1.63805125e+00,\n",
       "       -1.82094278e+00, -2.03417486e+00, -2.28685145e+00, -2.59205521e+00,\n",
       "       -2.96928786e+00, -3.44895757e+00, -4.08124179e+00, -4.95526870e+00,\n",
       "       -6.24600660e+00, -8.35036376e+00, -1.24024602e+01, -2.34687950e+01,\n",
       "       -1.78523194e+02,  3.28145484e+01,  1.52251515e+01,  9.99333342e+00,\n",
       "        7.48127050e+00,  6.00585538e+00,  5.03556469e+00,  4.34944174e+00,\n",
       "        3.83919301e+00,  3.44551152e+00,  3.13320222e+00,  2.88006721e+00,\n",
       "        2.67142022e+00,  2.49716275e+00,  2.35012680e+00,  2.22508690e+00,\n",
       "        2.11814562e+00,  2.02633740e+00,  1.94736473e+00,  1.87941770e+00,\n",
       "        1.82104718e+00,  1.77107362e+00,  1.72852008e+00,  1.69256191e+00,\n",
       "        1.66248830e+00,  1.63767238e+00,  1.61754775e+00,  1.60158998e+00,\n",
       "        1.58930201e+00,  1.58020308e+00,  1.57382062e+00,  1.56968494e+00,\n",
       "        1.56732670e+00,  1.56627678e+00,  1.56606870e+00,  1.56624305e+00,\n",
       "        1.56635379e+00,  1.56597579e+00,  1.56471318e+00,  1.56220764e+00,\n",
       "        1.55814620e+00,  1.55226772e+00,  1.54436762e+00,  1.53430050e+00,\n",
       "        1.52198034e+00,  1.50737853e+00,  1.49051978e+00,  1.47147628e+00,\n",
       "        1.45036072e+00,  1.42731854e+00,  1.40251987e+00,  1.37615183e+00,\n",
       "        1.34841122e+00,  1.31949818e+00,  1.28961064e+00,  1.25893999e+00,\n",
       "        1.22766764e+00,  1.19596255e+00,  1.16397969e+00,  1.13185918e+00,\n",
       "        1.09972599e+00,  1.06769020e+00,  1.03584758e+00,  1.00428038e+00,\n",
       "        9.73058368e-01,  9.42239884e-01,  9.11872997e-01,  8.81996613e-01,\n",
       "        8.52641564e-01,  8.23831644e-01,  7.95584564e-01,  7.67912837e-01,\n",
       "        7.40824575e-01,  7.14324212e-01,  6.88413140e-01,  6.63090279e-01,\n",
       "        6.38352573e-01,  6.14195424e-01,  5.90613070e-01,  5.67598910e-01,\n",
       "        5.45145784e-01,  5.23246210e-01,  5.01892590e-01,  4.81077377e-01,\n",
       "        4.60793220e-01,  4.41033082e-01,  4.21790335e-01,  4.03058836e-01,\n",
       "        3.84832991e-01,  3.67107792e-01,  3.49878857e-01,  3.33142437e-01,\n",
       "        3.16895432e-01,  3.01135378e-01,  2.85860436e-01,  2.71069365e-01,\n",
       "        2.56761487e-01,  2.42936641e-01,  2.29595128e-01,  2.16737649e-01,\n",
       "        2.04365231e-01,  1.92479142e-01,  1.81080803e-01,  1.70171681e-01,\n",
       "        1.59753187e-01,  1.49826553e-01,  1.40392710e-01,  1.31452154e-01,\n",
       "        1.23004811e-01,  1.15049897e-01,  1.07585776e-01,  1.00609812e-01,\n",
       "        9.41182323e-02,  8.81059912e-02,  8.25666370e-02,  7.74921945e-02,\n",
       "        7.28730576e-02,  6.86978980e-02,  6.49535932e-02,  6.16251759e-02,\n",
       "        5.86958073e-02,  5.61467766e-02,  5.39575291e-02,  5.21057223e-02,\n",
       "        5.05673129e-02,  4.93166717e-02,  4.83267279e-02,  4.75691399e-02,\n",
       "        4.70144893e-02,  4.66324969e-02,  4.63922552e-02,  4.62624737e-02,\n",
       "        4.62117323e-02,  4.62087377e-02,  4.62225782e-02,  4.62229718e-02,\n",
       "        4.61805020e-02,  4.60668396e-02,  4.58549435e-02,  4.55192399e-02,\n",
       "        4.50357770e-02,  4.43823522e-02,  4.35386128e-02,  4.24861286e-02,\n",
       "        4.12084372e-02,  3.96910635e-02,  3.79215144e-02,  3.58892508e-02,\n",
       "        3.35856399e-02,  3.10038891e-02,  2.81389656e-02,  2.49875030e-02,\n",
       "        2.15476990e-02,  1.78192055e-02,  1.38030149e-02,  9.50134307e-03,\n",
       "        4.91751313e-03,  5.58396399e-05, -5.07848358e-03, -1.04794917e-02,\n",
       "       -1.61405517e-02, -2.20544595e-02, -2.82135302e-02, -3.46096814e-02,\n",
       "       -4.12345094e-02, -4.80793582e-02, -5.51353811e-02, -6.23935952e-02,\n",
       "       -6.98449296e-02, -7.74802661e-02, -8.52904750e-02, -9.32664441e-02,\n",
       "       -1.01399103e-01, -1.09679441e-01, -1.18098523e-01, -1.26647500e-01,\n",
       "       -1.35317615e-01, -1.44100206e-01, -1.52986707e-01, -1.61968646e-01,\n",
       "       -1.71037642e-01, -1.80185395e-01, -1.89403684e-01, -1.98684350e-01,\n",
       "       -2.08019296e-01, -2.17400465e-01, -2.26819839e-01, -2.36269418e-01,\n",
       "       -2.45741217e-01, -2.55227246e-01, -2.64719504e-01, -2.74209969e-01,\n",
       "       -2.83690583e-01, -2.93153245e-01, -3.02589805e-01, -3.11992054e-01,\n",
       "       -3.21351721e-01, -3.30660468e-01, -3.39909886e-01, -3.49091498e-01,\n",
       "       -3.58196759e-01, -3.67217061e-01, -3.76143739e-01, -3.84968079e-01,\n",
       "       -3.93681333e-01, -4.02274730e-01, -4.10739493e-01, -4.19066865e-01,\n",
       "       -4.27248126e-01, -4.35274619e-01, -4.43137787e-01, -4.50829195e-01,\n",
       "       -4.58340573e-01, -4.65663850e-01, -4.72791196e-01, -4.79715062e-01,\n",
       "       -4.86428227e-01, -4.92923848e-01, -4.99195499e-01, -5.05237228e-01,\n",
       "       -5.11043603e-01, -5.16609761e-01, -5.21931457e-01, -5.27005113e-01,\n",
       "       -5.31827861e-01, -5.36397586e-01, -5.40712970e-01, -5.44773522e-01,\n",
       "       -5.48579615e-01, -5.52132511e-01, -5.55434378e-01, -5.58488313e-01,\n",
       "       -5.61298342e-01, -5.63869428e-01, -5.66207462e-01, -5.68319250e-01,\n",
       "       -5.70212494e-01, -5.71895762e-01, -5.73378457e-01, -5.74670769e-01,\n",
       "       -5.75783634e-01, -5.76728672e-01, -5.77518132e-01, -5.78164825e-01,\n",
       "       -5.78682056e-01, -5.79083551e-01, -5.79383383e-01, -5.79595894e-01,\n",
       "       -5.79735622e-01, -5.79817219e-01, -5.79855378e-01, -5.79864760e-01,\n",
       "       -5.79859919e-01, -5.79855235e-01, -5.79864850e-01, -5.79902605e-01,\n",
       "       -5.79981989e-01, -5.80116082e-01, -5.80317514e-01, -5.80598423e-01,\n",
       "       -5.80970421e-01, -5.81444564e-01, -5.82031331e-01, -5.82740603e-01,\n",
       "       -5.83581650e-01, -5.84563125e-01, -5.85693058e-01, -5.86978858e-01,\n",
       "       -5.88427315e-01, -5.90044611e-01, -5.91836329e-01, -5.93807465e-01,\n",
       "       -5.95962449e-01, -5.98305159e-01, -6.00838939e-01, -6.03566627e-01,\n",
       "       -6.06490569e-01, -6.09612647e-01, -6.12934299e-01, -6.16456542e-01,\n",
       "       -6.20179997e-01, -6.24104910e-01, -6.28231176e-01, -6.32558355e-01,\n",
       "       -6.37085700e-01, -6.41812173e-01, -6.46736464e-01, -6.51857007e-01,\n",
       "       -6.57172001e-01, -6.62679422e-01, -6.68377037e-01, -6.74262419e-01,\n",
       "       -6.80332960e-01, -6.86585875e-01, -6.93018220e-01, -6.99626894e-01,\n",
       "       -7.06408649e-01, -7.13360096e-01, -7.20477706e-01, -7.27757822e-01,\n",
       "       -7.35196651e-01, -7.42790278e-01, -7.50534655e-01, -7.58425613e-01,\n",
       "       -7.66458850e-01, -7.74629941e-01, -7.82934327e-01, -7.91367319e-01,\n",
       "       -7.99924090e-01, -8.08599675e-01, -8.17388969e-01, -8.26286718e-01,\n",
       "       -8.35287517e-01, -8.44385808e-01, -8.53575872e-01, -8.62851827e-01,\n",
       "       -8.72207623e-01, -8.81637037e-01, -8.91133672e-01, -9.00690949e-01,\n",
       "       -9.10302108e-01, -9.19960205e-01, -9.29658110e-01, -9.39388502e-01,\n",
       "       -9.49143878e-01, -9.58916543e-01, -9.68698623e-01, -9.78482057e-01,\n",
       "       -9.88258612e-01, -9.98019882e-01, -1.00775730e+00, -1.01746213e+00,\n",
       "       -1.02712552e+00, -1.03673845e+00, -1.04629182e+00, -1.05577641e+00,\n",
       "       -1.06518290e+00, -1.07450194e+00, -1.08372410e+00, -1.09283998e+00,\n",
       "       -1.10184013e+00, -1.11071519e+00, -1.11945583e+00, -1.12805282e+00,\n",
       "       -1.13649707e+00, -1.14477965e+00, -1.15289182e+00, -1.16082510e+00,\n",
       "       -1.16857125e+00, -1.17612236e+00, -1.18347088e+00, -1.19060963e+00,\n",
       "       -1.19753188e+00, -1.20423137e+00, -1.21070231e+00, -1.21693950e+00,\n",
       "       -1.22293828e+00, -1.22869463e+00, -1.23420516e+00, -1.23946713e+00,\n",
       "       -1.24447854e+00, -1.24923806e+00, -1.25374514e+00, -1.25799996e+00,\n",
       "       -1.26200347e+00, -1.26575739e+00, -1.26926420e+00, -1.27252720e+00,\n",
       "       -1.27555040e+00, -1.27833860e+00, -1.28089733e+00, -1.28323286e+00,\n",
       "       -1.28535215e+00, -1.28726282e+00, -1.28897316e+00, -1.29049206e+00,\n",
       "       -1.29182896e+00, -1.29299386e+00, -1.29399724e+00, -1.29485003e+00,\n",
       "       -1.29556354e+00, -1.29614946e+00, -1.29661976e+00, -1.29698667e+00,\n",
       "       -1.29726263e+00, -1.29746025e+00, -1.29759221e+00, -1.29767130e+00,\n",
       "       -1.29771029e+00, -1.29772195e+00, -1.29771898e+00, -1.29771396e+00,\n",
       "       -1.29771932e+00, -1.29774735e+00, -1.29781008e+00, -1.29791932e+00,\n",
       "       -1.29808664e+00, -1.29832326e+00, -1.29864015e+00, -1.29904790e+00,\n",
       "       -1.29955679e+00, -1.30017671e+00, -1.30091719e+00, -1.30178740e+00,\n",
       "       -1.30279611e+00, -1.30395168e+00, -1.30526213e+00, -1.30673505e+00,\n",
       "       -1.30837765e+00, -1.31019677e+00, -1.31219885e+00, -1.31438997e+00,\n",
       "       -1.31677584e+00, -1.31936181e+00, -1.32215287e+00, -1.32515369e+00,\n",
       "       -1.32836858e+00, -1.33180156e+00, -1.33545632e+00, -1.33933626e+00,\n",
       "       -1.34344447e+00, -1.34778380e+00, -1.35235679e+00, -1.35716575e+00,\n",
       "       -1.36221275e+00, -1.36749958e+00, -1.37302786e+00, -1.37879894e+00,\n",
       "       -1.38481400e+00, -1.39107397e+00, -1.39757964e+00, -1.40433158e+00,\n",
       "       -1.41133017e+00, -1.41857563e+00, -1.42606800e+00, -1.43380717e+00])"
      ]
     },
     "execution_count": 18,
     "metadata": {},
     "output_type": "execute_result"
    }
   ],
   "source": [
    "tanDl(x,0,10)"
   ]
  },
  {
   "cell_type": "code",
   "execution_count": 22,
   "metadata": {},
   "outputs": [
    {
     "data": {
      "text/plain": [
       "array([0.9999])"
      ]
     },
     "execution_count": 22,
     "metadata": {},
     "output_type": "execute_result"
    }
   ],
   "source": [
    "x"
   ]
  },
  {
   "cell_type": "code",
   "execution_count": null,
   "metadata": {},
   "outputs": [],
   "source": []
  }
 ],
 "metadata": {
  "kernelspec": {
   "display_name": "Python 3",
   "language": "python",
   "name": "python3"
  },
  "language_info": {
   "codemirror_mode": {
    "name": "ipython",
    "version": 3
   },
   "file_extension": ".py",
   "mimetype": "text/x-python",
   "name": "python",
   "nbconvert_exporter": "python",
   "pygments_lexer": "ipython3",
   "version": "3.7.6"
  }
 },
 "nbformat": 4,
 "nbformat_minor": 4
}
