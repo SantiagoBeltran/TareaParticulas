{
 "cells": [
  {
   "cell_type": "code",
   "execution_count": 1,
   "metadata": {},
   "outputs": [
    {
     "name": "stdout",
     "output_type": "stream",
     "text": [
      "Populating the interactive namespace from numpy and matplotlib\n"
     ]
    }
   ],
   "source": [
    "%pylab inline"
   ]
  },
  {
   "cell_type": "code",
   "execution_count": 2,
   "metadata": {},
   "outputs": [],
   "source": [
    "import scipy.special as spe\n",
    "from scipy.optimize import fsolve"
   ]
  },
  {
   "cell_type": "code",
   "execution_count": 3,
   "metadata": {},
   "outputs": [],
   "source": [
    "def continuidad(x, l, rho):\n",
    "    y=rho*np.sqrt(x+1)\n",
    "    z=rho*np.sqrt(-x)\n",
    "    g=y*spe.spherical_jn(l,y,derivative=True)/spe.spherical_jn(l,y)\n",
    "    h=z*spe.spherical_kn(l,z,derivative=True)/spe.spherical_kn(l,z)\n",
    "    f=g-h\n",
    "    return f"
   ]
  },
  {
   "cell_type": "code",
   "execution_count": 33,
   "metadata": {},
   "outputs": [
    {
     "data": {
      "text/plain": [
       "[<matplotlib.lines.Line2D at 0x7f6c34be8950>]"
      ]
     },
     "execution_count": 33,
     "metadata": {},
     "output_type": "execute_result"
    },
    {
     "data": {
      "image/png": "[encoded data removed]",
      "text/plain": [
       "<Figure size 432x288 with 1 Axes>"
      ]
     },
     "metadata": {
      "needs_background": "light"
     },
     "output_type": "display_data"
    }
   ],
   "source": [
    "plt.figure()\n",
    "x=np.arange(-1,0,0.01)\n",
    "plt.plot(x, continuidad(x, 0, np.sqrt(40)))"
   ]
  },
  {
   "cell_type": "code",
   "execution_count": 18,
   "metadata": {},
   "outputs": [
    {
     "data": {
      "text/plain": [
       "0.003709152935170046"
      ]
     },
     "execution_count": 18,
     "metadata": {},
     "output_type": "execute_result"
    }
   ],
   "source": [
    "continuidad(-0.678, 0, np.sqrt(20))"
   ]
  },
  {
   "cell_type": "code",
   "execution_count": 22,
   "metadata": {},
   "outputs": [
    {
     "name": "stderr",
     "output_type": "stream",
     "text": [
      "/srv/conda/envs/notebook/lib/python3.7/site-packages/ipykernel_launcher.py:4: RuntimeWarning: invalid value encountered in double_scalars\n",
      "  after removing the cwd from sys.path.\n"
     ]
    },
    {
     "data": {
      "text/plain": [
       "array([-0.63 , -0.006])"
      ]
     },
     "execution_count": 22,
     "metadata": {},
     "output_type": "execute_result"
    }
   ],
   "source": [
    "def hallarCeros(f,l, rho,toi=0.0005):\n",
    "    g=np.arange(-1,0, 0.00001)\n",
    "    ceros=[]\n",
    "    for i in range(len(g)):\n",
    "        if np.abs(f(g[i],l,rho))<toi:\n",
    "            ceros.append(np.round(g[i],3))       \n",
    "    zeros=np.unique(ceros) \n",
    "    return zeros\n",
    "hallarCeros(continuidad, 1, np.sqrt(40))"
   ]
  },
  {
   "cell_type": "code",
   "execution_count": 48,
   "metadata": {},
   "outputs": [
    {
     "name": "stderr",
     "output_type": "stream",
     "text": [
      "/srv/conda/envs/notebook/lib/python3.7/site-packages/ipykernel_launcher.py:4: RuntimeWarning: invalid value encountered in double_scalars\n",
      "  after removing the cwd from sys.path.\n"
     ]
    },
    {
     "name": "stdout",
     "output_type": "stream",
     "text": [
      "[0. 0. 1. 1. 2. 3.] [-32.72 -12.   -25.2   -0.24 -15.96  -5.24]\n",
      "[0. 0. 1. 1. 2. 3. 3. 4.] [-42.5  -20.7  -34.7   -7.   -25.05 -13.7  -13.65  -0.9 ]\n",
      "[0. 0. 1. 1. 2. 2. 3. 4.] [-52.32 -29.82 -44.34 -15.24 -34.38  -0.18 -22.56  -9.18]\n",
      "[0. 0. 1. 1. 2. 2. 3. 4. 5.] [-39.13  -4.34 -54.04 -23.94 -43.82  -7.49 -31.78 -17.92  -2.52]\n",
      "[0. 0. 1. 1. 2. 2. 3. 4. 5.] [-48.56 -11.92 -63.76 -32.96 -53.44 -15.76 -41.12 -26.96 -11.04]\n"
     ]
    },
    {
     "data": {
      "text/plain": [
       "<matplotlib.legend.Legend at 0x7f6c34886210>"
      ]
     },
     "execution_count": 48,
     "metadata": {},
     "output_type": "execute_result"
    },
    {
     "data": {
      "image/png": "[encoded data removed]",
      "text/plain": [
       "<Figure size 432x288 with 1 Axes>"
      ]
     },
     "metadata": {
      "needs_background": "light"
     },
     "output_type": "display_data"
    }
   ],
   "source": [
    "plt.figure()\n",
    "rho=np.sqrt(np.arange(40,90,10))\n",
    "l=np.arange(0,6,1)\n",
    "for i in range(len(rho)):\n",
    "    y=hallarCeros(continuidad, l[0], rho[i])\n",
    "    x=np.ones(len(y))*l[0]\n",
    "    for j in range(1,len(l)):\n",
    "        a=hallarCeros(continuidad, l[j], rho[i])\n",
    "        y=np.concatenate((y,a))\n",
    "        x=np.concatenate((x,np.ones(len(a))*l[j]))\n",
    "    print(x,y*rho[i]**2)\n",
    "    plt.scatter(x,y, s=700, marker=\"_\", label=r\"$V_0=${}\".format(round(rho[i]**2, 0)))\n",
    "plt.legend()        "
   ]
  },
  {
   "cell_type": "code",
   "execution_count": 49,
   "metadata": {},
   "outputs": [],
   "source": [
    "def tanDl(x, l, rho):\n",
    "    y=rho*np.sqrt(x+1)\n",
    "    z=1j*rho*np.sqrt(-x)\n",
    "    g=y*spe.spherical_jn(l,z)*spe.spherical_jn(l,y, derivative=True)-z*spe.spherical_jn(l,z, derivative=True)*spe.spherical_jn(l,y)\n",
    "    h=z*spe.spherical_yn(l,z, derivative=True)*spe.spherical_jn(l,y)-y*spe.spherical_jn(l,y,derivative=True)*spe.spherical_yn(l,1j*z)\n",
    "    f=-g/h\n",
    "    return f\n",
    "    "
   ]
  },
  {
   "cell_type": "code",
   "execution_count": 62,
   "metadata": {},
   "outputs": [],
   "source": [
    "def sigma(x, rho):\n",
    "    s=0\n",
    "    for i in range(100):\n",
    "        d=tanDl(x,i,rho)/(np.sqrt(1+tanDl(x,i,rho)**2))\n",
    "        s+=-4*np.pi*(2*i+1)*(abs(d))**2/(rho**2*x)\n",
    "    return s"
   ]
  },
  {
   "cell_type": "code",
   "execution_count": 63,
   "metadata": {},
   "outputs": [
    {
     "name": "stderr",
     "output_type": "stream",
     "text": [
      "/srv/conda/envs/notebook/lib/python3.7/site-packages/ipykernel_launcher.py:6: RuntimeWarning: invalid value encountered in true_divide\n",
      "  \n"
     ]
    },
    {
     "data": {
      "text/plain": [
       "[<matplotlib.lines.Line2D at 0x7f6c34737350>]"
      ]
     },
     "execution_count": 63,
     "metadata": {},
     "output_type": "execute_result"
    },
    {
     "data": {
      "image/png": "[encoded data removed]",
      "text/plain": [
       "<Figure size 432x288 with 1 Axes>"
      ]
     },
     "metadata": {
      "needs_background": "light"
     },
     "output_type": "display_data"
    }
   ],
   "source": [
    "x=np.arange(-1,0.0,0.001)\n",
    "plt.figure()\n",
    "plt.plot(x, sigma(x,np.sqrt(40)))\n",
    "#plt.ylim(0,1000)"
   ]
  },
  {
   "cell_type": "code",
   "execution_count": 57,
   "metadata": {},
   "outputs": [
    {
     "name": "stderr",
     "output_type": "stream",
     "text": [
      "/srv/conda/envs/notebook/lib/python3.7/site-packages/ipykernel_launcher.py:6: RuntimeWarning: invalid value encountered in true_divide\n",
      "  \n"
     ]
    },
    {
     "data": {
      "text/plain": [
       "array([-0.999, -0.896, -0.895, -0.894, -0.893, -0.892, -0.891, -0.89 ,\n",
       "       -0.889, -0.888, -0.887, -0.73 , -0.729, -0.728, -0.727, -0.726,\n",
       "       -0.725, -0.724, -0.723, -0.722, -0.721, -0.72 , -0.719, -0.718,\n",
       "       -0.717, -0.716, -0.715, -0.714, -0.713, -0.712, -0.711, -0.51 ,\n",
       "       -0.509, -0.508, -0.507, -0.506, -0.505, -0.504, -0.503, -0.502,\n",
       "       -0.501, -0.5  , -0.499, -0.498, -0.497, -0.496, -0.495, -0.494,\n",
       "       -0.493, -0.492, -0.491, -0.49 , -0.489, -0.488, -0.487, -0.486,\n",
       "       -0.485, -0.484, -0.483, -0.482, -0.481, -0.48 , -0.479, -0.478,\n",
       "       -0.477, -0.476, -0.475, -0.474, -0.473, -0.472, -0.471, -0.47 ,\n",
       "       -0.353, -0.352, -0.351, -0.336, -0.335, -0.334, -0.333, -0.332,\n",
       "       -0.331, -0.33 , -0.329, -0.328, -0.293, -0.292, -0.291, -0.29 ,\n",
       "       -0.154])"
      ]
     },
     "execution_count": 57,
     "metadata": {},
     "output_type": "execute_result"
    }
   ],
   "source": [
    "x[sigma(x,np.sqrt(40))>50]"
   ]
  },
  {
   "cell_type": "code",
   "execution_count": 22,
   "metadata": {},
   "outputs": [
    {
     "data": {
      "text/plain": [
       "array([0.9999])"
      ]
     },
     "execution_count": 22,
     "metadata": {},
     "output_type": "execute_result"
    }
   ],
   "source": [
    "x"
   ]
  },
  {
   "cell_type": "code",
   "execution_count": null,
   "metadata": {},
   "outputs": [],
   "source": []
  }
 ],
 "metadata": {
  "kernelspec": {
   "display_name": "Python 3",
   "language": "python",
   "name": "python3"
  },
  "language_info": {
   "codemirror_mode": {
    "name": "ipython",
    "version": 3
   },
   "file_extension": ".py",
   "mimetype": "text/x-python",
   "name": "python",
   "nbconvert_exporter": "python",
   "pygments_lexer": "ipython3",
   "version": "3.7.6"
  }
 },
 "nbformat": 4,
 "nbformat_minor": 4
}
